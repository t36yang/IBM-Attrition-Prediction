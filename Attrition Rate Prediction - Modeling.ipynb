{
 "cells": [
  {
   "cell_type": "markdown",
   "metadata": {},
   "source": [
    "## Baseline Modeling - Logistic Regression\n"
   ]
  },
  {
   "cell_type": "code",
   "execution_count": 8,
   "metadata": {},
   "outputs": [],
   "source": [
    "from sklearn.preprocessing import LabelEncoder, StandardScaler, MaxAbsScaler\n",
    "from sklearn.linear_model import LogisticRegression\n",
    "from imblearn.pipeline import Pipeline\n",
    "from sklearn.model_selection import train_test_split, cross_validate\n",
    "from sklearn.metrics import accuracy_score\n",
    "from sklearn.preprocessing import OneHotEncoder\n",
    "from sklearn.compose import ColumnTransformer\n",
    "import pandas as pd\n",
    "import numpy as np\n",
    "import seaborn as sns\n",
    "import itertools\n",
    "from numbers import Number\n",
    "from scipy import stats\n",
    "import matplotlib.pyplot as plt\n",
    "import seaborn as sns\n",
    "import statsmodels.api as sm\n",
    "%matplotlib inline\n",
    "import warnings\n",
    "warnings.filterwarnings('ignore')\n",
    "import pickle\n",
    "from sklearn.linear_model import LinearRegression\n",
    "from sklearn.model_selection import train_test_split\n",
    "from sklearn.metrics import mean_absolute_error\n",
    "from sklearn.metrics import mean_squared_error\n",
    "from sklearn.preprocessing import LabelEncoder\n",
    "from imblearn.over_sampling import SMOTE\n",
    "from sklearn import set_config\n",
    "set_config(display= 'diagram')\n",
    "from imblearn.under_sampling import RandomUnderSampler"
   ]
  },
  {
   "cell_type": "code",
   "execution_count": 9,
   "metadata": {},
   "outputs": [],
   "source": [
    "masterdf=pd.read_csv('AttritionRate_EDA.csv')"
   ]
  },
  {
   "cell_type": "code",
   "execution_count": 10,
   "metadata": {
    "scrolled": true
   },
   "outputs": [
    {
     "data": {
      "text/plain": [
       "Index(['Unnamed: 0', 'Unnamed: 0.1', 'Age', 'Attrition', 'BusinessTravel',\n",
       "       'DailyRate', 'Department', 'DistanceFromHome', 'Education',\n",
       "       'EducationField', 'EmployeeCount', 'EmployeeNumber',\n",
       "       'EnvironmentSatisfaction', 'Gender', 'HourlyRate', 'JobInvolvement',\n",
       "       'JobLevel', 'JobRole', 'JobSatisfaction', 'MaritalStatus',\n",
       "       'MonthlyIncome', 'MonthlyRate', 'NumCompaniesWorked', 'OverTime',\n",
       "       'PercentSalaryHike', 'PerformanceRating', 'RelationshipSatisfaction',\n",
       "       'StockOptionLevel', 'TotalWorkingYears', 'TrainingTimesLastYear',\n",
       "       'WorkLifeBalance', 'YearsAtCompany', 'YearsInCurrentRole',\n",
       "       'YearsSinceLastPromotion', 'YearsWithCurrManager', 'AgeRange',\n",
       "       'IncomeDistribution', 'YearlyIncome'],\n",
       "      dtype='object')"
      ]
     },
     "execution_count": 10,
     "metadata": {},
     "output_type": "execute_result"
    }
   ],
   "source": [
    "masterdf.columns"
   ]
  },
  {
   "cell_type": "code",
   "execution_count": 11,
   "metadata": {},
   "outputs": [],
   "source": [
    "masterdf=masterdf.drop(['Unnamed: 0','Unnamed: 0.1','EmployeeCount','EmployeeNumber','DailyRate','HourlyRate','MonthlyIncome','MonthlyRate','JobLevel'],axis=1)"
   ]
  },
  {
   "cell_type": "code",
   "execution_count": 12,
   "metadata": {},
   "outputs": [],
   "source": [
    "y=masterdf['Attrition']\n",
    "X=masterdf.drop(['Attrition'],axis=1)\n",
    "smote = SMOTE(sampling_strategy=0.8)\n",
    "(X_train,X_test,y_train,y_test)=train_test_split(X,y,test_size=0.2,random_state=42)"
   ]
  },
  {
   "cell_type": "code",
   "execution_count": 13,
   "metadata": {},
   "outputs": [
    {
     "data": {
      "text/plain": [
       "Index(['Age', 'DistanceFromHome', 'Education', 'EnvironmentSatisfaction',\n",
       "       'JobInvolvement', 'JobSatisfaction', 'NumCompaniesWorked', 'OverTime',\n",
       "       'PercentSalaryHike', 'PerformanceRating', 'RelationshipSatisfaction',\n",
       "       'StockOptionLevel', 'TotalWorkingYears', 'TrainingTimesLastYear',\n",
       "       'WorkLifeBalance', 'YearsAtCompany', 'YearsInCurrentRole',\n",
       "       'YearsSinceLastPromotion', 'YearsWithCurrManager', 'YearlyIncome'],\n",
       "      dtype='object')"
      ]
     },
     "execution_count": 13,
     "metadata": {},
     "output_type": "execute_result"
    }
   ],
   "source": [
    "num_cols=X_train.select_dtypes(['int','float']).columns\n",
    "num_cols"
   ]
  },
  {
   "cell_type": "code",
   "execution_count": 14,
   "metadata": {},
   "outputs": [
    {
     "data": {
      "text/plain": [
       "Index(['BusinessTravel', 'Department', 'EducationField', 'Gender', 'JobRole',\n",
       "       'MaritalStatus', 'AgeRange', 'IncomeDistribution'],\n",
       "      dtype='object')"
      ]
     },
     "execution_count": 14,
     "metadata": {},
     "output_type": "execute_result"
    }
   ],
   "source": [
    "nominal_cols=X_train.select_dtypes('object').columns\n",
    "nominal_cols"
   ]
  },
  {
   "cell_type": "code",
   "execution_count": 15,
   "metadata": {},
   "outputs": [],
   "source": [
    "numeric_pipeline = Pipeline([('std_scaler', StandardScaler())])\n",
    "\n",
    "nominal_pipeline=Pipeline([('hotenco',OneHotEncoder(categories='auto',drop='first')),('onehotnorm',MaxAbsScaler())])\n",
    "\n",
    "ct = ColumnTransformer([ \n",
    "     (\"nominalpipe\", nominal_pipeline,nominal_cols),\n",
    "     (\"numpipe\", numeric_pipeline,num_cols)])\n"
   ]
  },
  {
   "cell_type": "code",
   "execution_count": 16,
   "metadata": {
    "scrolled": true
   },
   "outputs": [
    {
     "data": {
      "text/html": [
       "<div>\n",
       "<style scoped>\n",
       "    .dataframe tbody tr th:only-of-type {\n",
       "        vertical-align: middle;\n",
       "    }\n",
       "\n",
       "    .dataframe tbody tr th {\n",
       "        vertical-align: top;\n",
       "    }\n",
       "\n",
       "    .dataframe thead th {\n",
       "        text-align: right;\n",
       "    }\n",
       "</style>\n",
       "<table border=\"1\" class=\"dataframe\">\n",
       "  <thead>\n",
       "    <tr style=\"text-align: right;\">\n",
       "      <th></th>\n",
       "      <th>0</th>\n",
       "      <th>1</th>\n",
       "      <th>2</th>\n",
       "      <th>3</th>\n",
       "      <th>4</th>\n",
       "      <th>5</th>\n",
       "      <th>6</th>\n",
       "      <th>7</th>\n",
       "      <th>8</th>\n",
       "      <th>9</th>\n",
       "      <th>...</th>\n",
       "      <th>36</th>\n",
       "      <th>37</th>\n",
       "      <th>38</th>\n",
       "      <th>39</th>\n",
       "      <th>40</th>\n",
       "      <th>41</th>\n",
       "      <th>42</th>\n",
       "      <th>43</th>\n",
       "      <th>44</th>\n",
       "      <th>45</th>\n",
       "    </tr>\n",
       "  </thead>\n",
       "  <tbody>\n",
       "    <tr>\n",
       "      <th>0</th>\n",
       "      <td>0.0</td>\n",
       "      <td>1.0</td>\n",
       "      <td>1.0</td>\n",
       "      <td>0.0</td>\n",
       "      <td>0.0</td>\n",
       "      <td>0.0</td>\n",
       "      <td>0.0</td>\n",
       "      <td>0.0</td>\n",
       "      <td>1.0</td>\n",
       "      <td>1.0</td>\n",
       "      <td>...</td>\n",
       "      <td>-0.639822</td>\n",
       "      <td>2.547471</td>\n",
       "      <td>-1.167368</td>\n",
       "      <td>0.157319</td>\n",
       "      <td>0.357435</td>\n",
       "      <td>-0.974263</td>\n",
       "      <td>-0.888208</td>\n",
       "      <td>-0.676110</td>\n",
       "      <td>-1.142448</td>\n",
       "      <td>-0.868277</td>\n",
       "    </tr>\n",
       "    <tr>\n",
       "      <th>1</th>\n",
       "      <td>0.0</td>\n",
       "      <td>0.0</td>\n",
       "      <td>1.0</td>\n",
       "      <td>0.0</td>\n",
       "      <td>1.0</td>\n",
       "      <td>0.0</td>\n",
       "      <td>0.0</td>\n",
       "      <td>0.0</td>\n",
       "      <td>0.0</td>\n",
       "      <td>1.0</td>\n",
       "      <td>...</td>\n",
       "      <td>1.211176</td>\n",
       "      <td>-0.945525</td>\n",
       "      <td>-1.423397</td>\n",
       "      <td>-0.613546</td>\n",
       "      <td>0.357435</td>\n",
       "      <td>-1.138573</td>\n",
       "      <td>-1.165051</td>\n",
       "      <td>-0.676110</td>\n",
       "      <td>-1.142448</td>\n",
       "      <td>-1.132807</td>\n",
       "    </tr>\n",
       "    <tr>\n",
       "      <th>2</th>\n",
       "      <td>0.0</td>\n",
       "      <td>1.0</td>\n",
       "      <td>0.0</td>\n",
       "      <td>1.0</td>\n",
       "      <td>0.0</td>\n",
       "      <td>1.0</td>\n",
       "      <td>0.0</td>\n",
       "      <td>0.0</td>\n",
       "      <td>0.0</td>\n",
       "      <td>1.0</td>\n",
       "      <td>...</td>\n",
       "      <td>1.211176</td>\n",
       "      <td>0.218807</td>\n",
       "      <td>-0.143254</td>\n",
       "      <td>-0.613546</td>\n",
       "      <td>0.357435</td>\n",
       "      <td>-0.645643</td>\n",
       "      <td>-0.611364</td>\n",
       "      <td>-0.676110</td>\n",
       "      <td>-0.575084</td>\n",
       "      <td>0.116537</td>\n",
       "    </tr>\n",
       "    <tr>\n",
       "      <th>3</th>\n",
       "      <td>0.0</td>\n",
       "      <td>1.0</td>\n",
       "      <td>1.0</td>\n",
       "      <td>0.0</td>\n",
       "      <td>0.0</td>\n",
       "      <td>0.0</td>\n",
       "      <td>1.0</td>\n",
       "      <td>0.0</td>\n",
       "      <td>0.0</td>\n",
       "      <td>1.0</td>\n",
       "      <td>...</td>\n",
       "      <td>0.285677</td>\n",
       "      <td>-0.945525</td>\n",
       "      <td>-0.527297</td>\n",
       "      <td>0.157319</td>\n",
       "      <td>0.357435</td>\n",
       "      <td>-0.317023</td>\n",
       "      <td>-0.057676</td>\n",
       "      <td>-0.355244</td>\n",
       "      <td>-1.142448</td>\n",
       "      <td>-0.231070</td>\n",
       "    </tr>\n",
       "    <tr>\n",
       "      <th>4</th>\n",
       "      <td>0.0</td>\n",
       "      <td>1.0</td>\n",
       "      <td>1.0</td>\n",
       "      <td>0.0</td>\n",
       "      <td>1.0</td>\n",
       "      <td>0.0</td>\n",
       "      <td>0.0</td>\n",
       "      <td>0.0</td>\n",
       "      <td>0.0</td>\n",
       "      <td>1.0</td>\n",
       "      <td>...</td>\n",
       "      <td>-1.565321</td>\n",
       "      <td>0.218807</td>\n",
       "      <td>-0.143254</td>\n",
       "      <td>-0.613546</td>\n",
       "      <td>0.357435</td>\n",
       "      <td>0.504527</td>\n",
       "      <td>1.049700</td>\n",
       "      <td>-0.676110</td>\n",
       "      <td>-0.575084</td>\n",
       "      <td>-0.464366</td>\n",
       "    </tr>\n",
       "  </tbody>\n",
       "</table>\n",
       "<p>5 rows × 46 columns</p>\n",
       "</div>"
      ],
      "text/plain": [
       "    0    1    2    3    4    5    6    7    8    9   ...        36        37  \\\n",
       "0  0.0  1.0  1.0  0.0  0.0  0.0  0.0  0.0  1.0  1.0  ... -0.639822  2.547471   \n",
       "1  0.0  0.0  1.0  0.0  1.0  0.0  0.0  0.0  0.0  1.0  ...  1.211176 -0.945525   \n",
       "2  0.0  1.0  0.0  1.0  0.0  1.0  0.0  0.0  0.0  1.0  ...  1.211176  0.218807   \n",
       "3  0.0  1.0  1.0  0.0  0.0  0.0  1.0  0.0  0.0  1.0  ...  0.285677 -0.945525   \n",
       "4  0.0  1.0  1.0  0.0  1.0  0.0  0.0  0.0  0.0  1.0  ... -1.565321  0.218807   \n",
       "\n",
       "         38        39        40        41        42        43        44  \\\n",
       "0 -1.167368  0.157319  0.357435 -0.974263 -0.888208 -0.676110 -1.142448   \n",
       "1 -1.423397 -0.613546  0.357435 -1.138573 -1.165051 -0.676110 -1.142448   \n",
       "2 -0.143254 -0.613546  0.357435 -0.645643 -0.611364 -0.676110 -0.575084   \n",
       "3 -0.527297  0.157319  0.357435 -0.317023 -0.057676 -0.355244 -1.142448   \n",
       "4 -0.143254 -0.613546  0.357435  0.504527  1.049700 -0.676110 -0.575084   \n",
       "\n",
       "         45  \n",
       "0 -0.868277  \n",
       "1 -1.132807  \n",
       "2  0.116537  \n",
       "3 -0.231070  \n",
       "4 -0.464366  \n",
       "\n",
       "[5 rows x 46 columns]"
      ]
     },
     "execution_count": 16,
     "metadata": {},
     "output_type": "execute_result"
    }
   ],
   "source": [
    "pd.DataFrame(ct.fit_transform(X_train)).head()"
   ]
  },
  {
   "cell_type": "code",
   "execution_count": 19,
   "metadata": {
    "scrolled": true
   },
   "outputs": [],
   "source": [
    "final_pipe = Pipeline([('preprocess', ct),\n",
    "                       ('under', RandomUnderSampler(sampling_strategy=0.5)),\n",
    "                      ('lr',\n",
    "                       LogisticRegression())])"
   ]
  },
  {
   "cell_type": "code",
   "execution_count": 20,
   "metadata": {
    "scrolled": true
   },
   "outputs": [
    {
     "data": {
      "text/html": [
       "<style>div.sk-top-container {color: black;background-color: white;}div.sk-toggleable {background-color: white;}label.sk-toggleable__label {cursor: pointer;display: block;width: 100%;margin-bottom: 0;padding: 0.2em 0.3em;box-sizing: border-box;text-align: center;}div.sk-toggleable__content {max-height: 0;max-width: 0;overflow: hidden;text-align: left;background-color: #f0f8ff;}div.sk-toggleable__content pre {margin: 0.2em;color: black;border-radius: 0.25em;background-color: #f0f8ff;}input.sk-toggleable__control:checked~div.sk-toggleable__content {max-height: 200px;max-width: 100%;overflow: auto;}div.sk-estimator input.sk-toggleable__control:checked~label.sk-toggleable__label {background-color: #d4ebff;}div.sk-label input.sk-toggleable__control:checked~label.sk-toggleable__label {background-color: #d4ebff;}input.sk-hidden--visually {border: 0;clip: rect(1px 1px 1px 1px);clip: rect(1px, 1px, 1px, 1px);height: 1px;margin: -1px;overflow: hidden;padding: 0;position: absolute;width: 1px;}div.sk-estimator {font-family: monospace;background-color: #f0f8ff;margin: 0.25em 0.25em;border: 1px dotted black;border-radius: 0.25em;box-sizing: border-box;}div.sk-estimator:hover {background-color: #d4ebff;}div.sk-parallel-item::after {content: \"\";width: 100%;border-bottom: 1px solid gray;flex-grow: 1;}div.sk-label:hover label.sk-toggleable__label {background-color: #d4ebff;}div.sk-serial::before {content: \"\";position: absolute;border-left: 1px solid gray;box-sizing: border-box;top: 2em;bottom: 0;left: 50%;}div.sk-serial {display: flex;flex-direction: column;align-items: center;background-color: white;}div.sk-item {z-index: 1;}div.sk-parallel {display: flex;align-items: stretch;justify-content: center;background-color: white;}div.sk-parallel-item {display: flex;flex-direction: column;position: relative;background-color: white;}div.sk-parallel-item:first-child::after {align-self: flex-end;width: 50%;}div.sk-parallel-item:last-child::after {align-self: flex-start;width: 50%;}div.sk-parallel-item:only-child::after {width: 0;}div.sk-dashed-wrapped {border: 1px dashed gray;margin: 0.2em;box-sizing: border-box;padding-bottom: 0.1em;background-color: white;position: relative;}div.sk-label label {font-family: monospace;font-weight: bold;background-color: white;display: inline-block;line-height: 1.2em;}div.sk-label-container {position: relative;z-index: 2;text-align: center;}div.sk-container {display: inline-block;position: relative;}</style><div class=\"sk-top-container\"><div class=\"sk-container\"><div class=\"sk-item sk-dashed-wrapped\"><div class=\"sk-label-container\"><div class=\"sk-label sk-toggleable\"><input class=\"sk-toggleable__control sk-hidden--visually\" id=\"b1caed13-37a7-4bb2-aba6-91147a501cb4\" type=\"checkbox\" ><label class=\"sk-toggleable__label\" for=\"b1caed13-37a7-4bb2-aba6-91147a501cb4\">Pipeline</label><div class=\"sk-toggleable__content\"><pre>Pipeline(steps=[('preprocess',\n",
       "                 ColumnTransformer(transformers=[('nominalpipe',\n",
       "                                                  Pipeline(steps=[('hotenco',\n",
       "                                                                   OneHotEncoder(drop='first')),\n",
       "                                                                  ('onehotnorm',\n",
       "                                                                   MaxAbsScaler())]),\n",
       "                                                  Index(['BusinessTravel', 'Department', 'EducationField', 'Gender', 'JobRole',\n",
       "       'MaritalStatus', 'AgeRange', 'IncomeDistribution'],\n",
       "      dtype='object')),\n",
       "                                                 ('numpipe',\n",
       "                                                  Pipeline(steps=[('std_scaler',\n",
       "                                                                   Stand...\n",
       "       'PercentSalaryHike', 'PerformanceRating', 'RelationshipSatisfaction',\n",
       "       'StockOptionLevel', 'TotalWorkingYears', 'TrainingTimesLastYear',\n",
       "       'WorkLifeBalance', 'YearsAtCompany', 'YearsInCurrentRole',\n",
       "       'YearsSinceLastPromotion', 'YearsWithCurrManager', 'YearlyIncome'],\n",
       "      dtype='object'))])),\n",
       "                ('under', RandomUnderSampler(sampling_strategy=0.5)),\n",
       "                ('lr', LogisticRegression())])</pre></div></div></div><div class=\"sk-serial\"><div class=\"sk-item sk-dashed-wrapped\"><div class=\"sk-label-container\"><div class=\"sk-label sk-toggleable\"><input class=\"sk-toggleable__control sk-hidden--visually\" id=\"6195f2af-79f2-4a94-b125-4474fab6e737\" type=\"checkbox\" ><label class=\"sk-toggleable__label\" for=\"6195f2af-79f2-4a94-b125-4474fab6e737\">preprocess: ColumnTransformer</label><div class=\"sk-toggleable__content\"><pre>ColumnTransformer(transformers=[('nominalpipe',\n",
       "                                 Pipeline(steps=[('hotenco',\n",
       "                                                  OneHotEncoder(drop='first')),\n",
       "                                                 ('onehotnorm',\n",
       "                                                  MaxAbsScaler())]),\n",
       "                                 Index(['BusinessTravel', 'Department', 'EducationField', 'Gender', 'JobRole',\n",
       "       'MaritalStatus', 'AgeRange', 'IncomeDistribution'],\n",
       "      dtype='object')),\n",
       "                                ('numpipe',\n",
       "                                 Pipeline(steps=[('std_scaler',\n",
       "                                                  StandardScaler())]),\n",
       "                                 Index(['Age', 'D...Satisfaction',\n",
       "       'JobInvolvement', 'JobSatisfaction', 'NumCompaniesWorked', 'OverTime',\n",
       "       'PercentSalaryHike', 'PerformanceRating', 'RelationshipSatisfaction',\n",
       "       'StockOptionLevel', 'TotalWorkingYears', 'TrainingTimesLastYear',\n",
       "       'WorkLifeBalance', 'YearsAtCompany', 'YearsInCurrentRole',\n",
       "       'YearsSinceLastPromotion', 'YearsWithCurrManager', 'YearlyIncome'],\n",
       "      dtype='object'))])</pre></div></div></div><div class=\"sk-parallel\"><div class=\"sk-parallel-item\"><div class=\"sk-item\"><div class=\"sk-label-container\"><div class=\"sk-label sk-toggleable\"><input class=\"sk-toggleable__control sk-hidden--visually\" id=\"fbebae93-d6e1-456d-a56a-9f0996260a08\" type=\"checkbox\" ><label class=\"sk-toggleable__label\" for=\"fbebae93-d6e1-456d-a56a-9f0996260a08\">nominalpipe</label><div class=\"sk-toggleable__content\"><pre>Index(['BusinessTravel', 'Department', 'EducationField', 'Gender', 'JobRole',\n",
       "       'MaritalStatus', 'AgeRange', 'IncomeDistribution'],\n",
       "      dtype='object')</pre></div></div></div><div class=\"sk-serial\"><div class=\"sk-item\"><div class=\"sk-serial\"><div class=\"sk-item\"><div class=\"sk-estimator sk-toggleable\"><input class=\"sk-toggleable__control sk-hidden--visually\" id=\"2d9600fe-a046-43b6-8a72-e29fb2cec04c\" type=\"checkbox\" ><label class=\"sk-toggleable__label\" for=\"2d9600fe-a046-43b6-8a72-e29fb2cec04c\">OneHotEncoder</label><div class=\"sk-toggleable__content\"><pre>OneHotEncoder(drop='first')</pre></div></div></div><div class=\"sk-item\"><div class=\"sk-estimator sk-toggleable\"><input class=\"sk-toggleable__control sk-hidden--visually\" id=\"3e81123b-534b-411c-b4be-9435a8125ab8\" type=\"checkbox\" ><label class=\"sk-toggleable__label\" for=\"3e81123b-534b-411c-b4be-9435a8125ab8\">MaxAbsScaler</label><div class=\"sk-toggleable__content\"><pre>MaxAbsScaler()</pre></div></div></div></div></div></div></div></div><div class=\"sk-parallel-item\"><div class=\"sk-item\"><div class=\"sk-label-container\"><div class=\"sk-label sk-toggleable\"><input class=\"sk-toggleable__control sk-hidden--visually\" id=\"8993c921-f575-4310-b858-a52b42e6596c\" type=\"checkbox\" ><label class=\"sk-toggleable__label\" for=\"8993c921-f575-4310-b858-a52b42e6596c\">numpipe</label><div class=\"sk-toggleable__content\"><pre>Index(['Age', 'DistanceFromHome', 'Education', 'EnvironmentSatisfaction',\n",
       "       'JobInvolvement', 'JobSatisfaction', 'NumCompaniesWorked', 'OverTime',\n",
       "       'PercentSalaryHike', 'PerformanceRating', 'RelationshipSatisfaction',\n",
       "       'StockOptionLevel', 'TotalWorkingYears', 'TrainingTimesLastYear',\n",
       "       'WorkLifeBalance', 'YearsAtCompany', 'YearsInCurrentRole',\n",
       "       'YearsSinceLastPromotion', 'YearsWithCurrManager', 'YearlyIncome'],\n",
       "      dtype='object')</pre></div></div></div><div class=\"sk-serial\"><div class=\"sk-item\"><div class=\"sk-serial\"><div class=\"sk-item\"><div class=\"sk-estimator sk-toggleable\"><input class=\"sk-toggleable__control sk-hidden--visually\" id=\"59f4b022-558a-4441-8398-9ab090553a9d\" type=\"checkbox\" ><label class=\"sk-toggleable__label\" for=\"59f4b022-558a-4441-8398-9ab090553a9d\">StandardScaler</label><div class=\"sk-toggleable__content\"><pre>StandardScaler()</pre></div></div></div></div></div></div></div></div></div></div><div class=\"sk-item\"><div class=\"sk-estimator sk-toggleable\"><input class=\"sk-toggleable__control sk-hidden--visually\" id=\"941d97ce-67aa-4724-a154-3c3e46843af0\" type=\"checkbox\" ><label class=\"sk-toggleable__label\" for=\"941d97ce-67aa-4724-a154-3c3e46843af0\">RandomUnderSampler</label><div class=\"sk-toggleable__content\"><pre>RandomUnderSampler(sampling_strategy=0.5)</pre></div></div></div><div class=\"sk-item\"><div class=\"sk-estimator sk-toggleable\"><input class=\"sk-toggleable__control sk-hidden--visually\" id=\"79536ad4-61a6-4ad9-b3b9-09520ce7b5e9\" type=\"checkbox\" ><label class=\"sk-toggleable__label\" for=\"79536ad4-61a6-4ad9-b3b9-09520ce7b5e9\">LogisticRegression</label><div class=\"sk-toggleable__content\"><pre>LogisticRegression()</pre></div></div></div></div></div></div></div>"
      ],
      "text/plain": [
       "Pipeline(steps=[('preprocess',\n",
       "                 ColumnTransformer(transformers=[('nominalpipe',\n",
       "                                                  Pipeline(steps=[('hotenco',\n",
       "                                                                   OneHotEncoder(drop='first')),\n",
       "                                                                  ('onehotnorm',\n",
       "                                                                   MaxAbsScaler())]),\n",
       "                                                  Index(['BusinessTravel', 'Department', 'EducationField', 'Gender', 'JobRole',\n",
       "       'MaritalStatus', 'AgeRange', 'IncomeDistribution'],\n",
       "      dtype='object')),\n",
       "                                                 ('numpipe',\n",
       "                                                  Pipeline(steps=[('std_scaler',\n",
       "                                                                   Stand...\n",
       "       'PercentSalaryHike', 'PerformanceRating', 'RelationshipSatisfaction',\n",
       "       'StockOptionLevel', 'TotalWorkingYears', 'TrainingTimesLastYear',\n",
       "       'WorkLifeBalance', 'YearsAtCompany', 'YearsInCurrentRole',\n",
       "       'YearsSinceLastPromotion', 'YearsWithCurrManager', 'YearlyIncome'],\n",
       "      dtype='object'))])),\n",
       "                ('under', RandomUnderSampler(sampling_strategy=0.5)),\n",
       "                ('lr', LogisticRegression())])"
      ]
     },
     "execution_count": 20,
     "metadata": {},
     "output_type": "execute_result"
    }
   ],
   "source": [
    "final_pipe.fit(X_train, y_train)"
   ]
  },
  {
   "cell_type": "code",
   "execution_count": 21,
   "metadata": {},
   "outputs": [],
   "source": [
    "y_pred=final_pipe.predict(X_test)"
   ]
  },
  {
   "cell_type": "code",
   "execution_count": 22,
   "metadata": {},
   "outputs": [
    {
     "data": {
      "text/plain": [
       "<sklearn.metrics._plot.confusion_matrix.ConfusionMatrixDisplay at 0x7fee900cfc70>"
      ]
     },
     "execution_count": 22,
     "metadata": {},
     "output_type": "execute_result"
    },
    {
     "data": {
      "image/png": "[encoded data removed]",
      "text/plain": [
       "<Figure size 432x288 with 2 Axes>"
      ]
     },
     "metadata": {
      "needs_background": "light"
     },
     "output_type": "display_data"
    }
   ],
   "source": [
    "from sklearn.metrics import precision_score, recall_score, plot_confusion_matrix\n",
    "\n",
    "plot_confusion_matrix(final_pipe, X_train,\n",
    "                      y_train)"
   ]
  },
  {
   "cell_type": "code",
   "execution_count": 23,
   "metadata": {},
   "outputs": [
    {
     "data": {
      "text/plain": [
       "<sklearn.metrics._plot.confusion_matrix.ConfusionMatrixDisplay at 0x7fee61179940>"
      ]
     },
     "execution_count": 23,
     "metadata": {},
     "output_type": "execute_result"
    },
    {
     "data": {
      "image/png": "[encoded data removed]",
      "text/plain": [
       "<Figure size 432x288 with 2 Axes>"
      ]
     },
     "metadata": {
      "needs_background": "light"
     },
     "output_type": "display_data"
    }
   ],
   "source": [
    "from sklearn.metrics import precision_score, recall_score, plot_confusion_matrix\n",
    "\n",
    "plot_confusion_matrix(final_pipe, X_test,\n",
    "                      y_test)"
   ]
  },
  {
   "cell_type": "code",
   "execution_count": 24,
   "metadata": {
    "scrolled": false
   },
   "outputs": [
    {
     "name": "stdout",
     "output_type": "stream",
     "text": [
      "              precision    recall  f1-score   support\n",
      "\n",
      "           0       0.93      0.89      0.91       255\n",
      "           1       0.44      0.54      0.48        39\n",
      "\n",
      "    accuracy                           0.85       294\n",
      "   macro avg       0.68      0.72      0.70       294\n",
      "weighted avg       0.86      0.85      0.85       294\n",
      "\n"
     ]
    }
   ],
   "source": [
    "from sklearn.metrics import precision_score, recall_score, accuracy_score, f1_score, log_loss,\\\n",
    "    roc_curve, roc_auc_score, classification_report\n",
    "print(classification_report(y_test,y_pred))"
   ]
  },
  {
   "cell_type": "code",
   "execution_count": 25,
   "metadata": {},
   "outputs": [],
   "source": [
    "y_score = final_pipe.fit(X_train, y_train).decision_function(X_test)\n",
    "\n",
    "fpr, tpr, thresholds = roc_curve(y_test, y_score)"
   ]
  },
  {
   "cell_type": "code",
   "execution_count": 26,
   "metadata": {},
   "outputs": [
    {
     "name": "stdout",
     "output_type": "stream",
     "text": [
      "AUC: 0.7730517848164907\n"
     ]
    }
   ],
   "source": [
    "from sklearn.metrics import roc_curve, auc\n",
    "\n",
    "print('AUC: {}'.format(auc(fpr, tpr)))"
   ]
  },
  {
   "cell_type": "code",
   "execution_count": 27,
   "metadata": {
    "scrolled": false
   },
   "outputs": [
    {
     "name": "stdout",
     "output_type": "stream",
     "text": [
      "AUC: 0.7730517848164907\n"
     ]
    },
    {
     "data": {
      "image/png": "[encoded data removed]",
      "text/plain": [
       "<Figure size 720x576 with 1 Axes>"
      ]
     },
     "metadata": {},
     "output_type": "display_data"
    }
   ],
   "source": [
    "import matplotlib.pyplot as plt\n",
    "import seaborn as sns\n",
    "%matplotlib inline\n",
    "\n",
    "# Seaborn's beautiful styling\n",
    "sns.set_style('darkgrid', {'axes.facecolor': '0.9'})\n",
    "\n",
    "print('AUC: {}'.format(auc(fpr, tpr)))\n",
    "plt.figure(figsize=(10, 8))\n",
    "lw = 2\n",
    "plt.plot(fpr, tpr, color='darkorange',\n",
    "         lw=lw, label='ROC curve')\n",
    "plt.plot([0, 1], [0, 1], color='navy', lw=lw, linestyle='--')\n",
    "plt.xlim([0.0, 1.0])\n",
    "plt.ylim([0.0, 1.05])\n",
    "plt.yticks([i/20.0 for i in range(21)])\n",
    "plt.xticks([i/20.0 for i in range(21)])\n",
    "plt.xlabel('False Positive Rate')\n",
    "plt.ylabel('True Positive Rate')\n",
    "plt.title('Receiver operating characteristic (ROC) Curve')\n",
    "plt.legend(loc='lower right')\n",
    "plt.show()"
   ]
  },
  {
   "cell_type": "markdown",
   "metadata": {},
   "source": [
    "#### Baseline Model Tuning"
   ]
  },
  {
   "cell_type": "code",
   "execution_count": 28,
   "metadata": {},
   "outputs": [],
   "source": [
    "C_list = [1e-4,1e-3, 1e-2, 1e-1, 1, 10, 100, 1e3, 1e4]\n",
    "cv_scores = []\n",
    "cv_scores_std = []\n",
    "\n",
    "for c in C_list:\n",
    "    final_pipe = Pipeline([('preprocess', ct),\n",
    "                        ('under', RandomUnderSampler(sampling_strategy=0.5)),\n",
    "                      ('lr',LogisticRegression(C=c))])\n",
    "    \n",
    "    final_pipe.fit(X_train,y_train)\n",
    "    scores = final_pipe.score(X_test,y_test)\n",
    "    cv_scores.append(scores)\n",
    "    \n",
    "    \n",
    "    \n",
    "#     cv_loop_results = cross_validate(\n",
    "#                 X=ct.fit_transform(X_train), \n",
    "#                 y=y_train,\n",
    "#                 estimator=lr, \n",
    "#                 cv=8)\n",
    "#     cv_scores.append(np.mean(np.sqrt(np.abs(cv_loop_results['test_score']))))\n",
    "#     cv_scores_std.append(np.std(np.sqrt(np.abs(cv_loop_results['test_score']))))"
   ]
  },
  {
   "cell_type": "code",
   "execution_count": 29,
   "metadata": {},
   "outputs": [
    {
     "data": {
      "text/plain": [
       "[0.8673469387755102,\n",
       " 0.8673469387755102,\n",
       " 0.9047619047619048,\n",
       " 0.8707482993197279,\n",
       " 0.8333333333333334,\n",
       " 0.826530612244898,\n",
       " 0.8197278911564626,\n",
       " 0.8197278911564626,\n",
       " 0.7959183673469388]"
      ]
     },
     "execution_count": 29,
     "metadata": {},
     "output_type": "execute_result"
    }
   ],
   "source": [
    "cv_scores"
   ]
  },
  {
   "cell_type": "code",
   "execution_count": 30,
   "metadata": {},
   "outputs": [],
   "source": [
    "predict=final_pipe.predict(X_test)"
   ]
  },
  {
   "cell_type": "code",
   "execution_count": 31,
   "metadata": {},
   "outputs": [
    {
     "name": "stdout",
     "output_type": "stream",
     "text": [
      "Accuracy Score: 0.7959183673469388\n",
      "Precision Score: 0.3220338983050847\n",
      "Recall Score: 0.48717948717948717\n",
      "F1 Score: 0.3877551020408163\n"
     ]
    },
    {
     "data": {
      "image/png": "[encoded data removed]",
      "text/plain": [
       "<Figure size 432x288 with 2 Axes>"
      ]
     },
     "metadata": {},
     "output_type": "display_data"
    }
   ],
   "source": [
    "plot_confusion_matrix(final_pipe, X_test,\n",
    "                      y_test)\n",
    "print(f'Accuracy Score: {accuracy_score(y_test,predict)}')\n",
    "print(f'Precision Score: {precision_score(y_test,predict)}')\n",
    "print(f'Recall Score: {recall_score(y_test,predict)}')\n",
    "print(f'F1 Score: {f1_score(y_test,predict)}')"
   ]
  },
  {
   "cell_type": "code",
   "execution_count": 32,
   "metadata": {},
   "outputs": [
    {
     "data": {
      "image/png": "[encoded data removed]",
      "text/plain": [
       "<Figure size 432x288 with 1 Axes>"
      ]
     },
     "metadata": {},
     "output_type": "display_data"
    }
   ],
   "source": [
    "fig, ax = plt.subplots()\n",
    "sns.lineplot(x = np.log10(C_list), y = cv_scores, marker = 's', ax = ax)\n",
    "ax.set_xlabel('Log(C)')\n",
    "ax.set_ylabel('Mean Accuracy')\n",
    "ax.set_title('Accuracy averaged on validation folds')\n",
    "plt.show()"
   ]
  },
  {
   "cell_type": "markdown",
   "metadata": {},
   "source": [
    "#### Best parameter for logsistic regression model - regularization = 1e-2"
   ]
  },
  {
   "cell_type": "code",
   "execution_count": 36,
   "metadata": {},
   "outputs": [
    {
     "data": {
      "text/html": [
       "<style>div.sk-top-container {color: black;background-color: white;}div.sk-toggleable {background-color: white;}label.sk-toggleable__label {cursor: pointer;display: block;width: 100%;margin-bottom: 0;padding: 0.2em 0.3em;box-sizing: border-box;text-align: center;}div.sk-toggleable__content {max-height: 0;max-width: 0;overflow: hidden;text-align: left;background-color: #f0f8ff;}div.sk-toggleable__content pre {margin: 0.2em;color: black;border-radius: 0.25em;background-color: #f0f8ff;}input.sk-toggleable__control:checked~div.sk-toggleable__content {max-height: 200px;max-width: 100%;overflow: auto;}div.sk-estimator input.sk-toggleable__control:checked~label.sk-toggleable__label {background-color: #d4ebff;}div.sk-label input.sk-toggleable__control:checked~label.sk-toggleable__label {background-color: #d4ebff;}input.sk-hidden--visually {border: 0;clip: rect(1px 1px 1px 1px);clip: rect(1px, 1px, 1px, 1px);height: 1px;margin: -1px;overflow: hidden;padding: 0;position: absolute;width: 1px;}div.sk-estimator {font-family: monospace;background-color: #f0f8ff;margin: 0.25em 0.25em;border: 1px dotted black;border-radius: 0.25em;box-sizing: border-box;}div.sk-estimator:hover {background-color: #d4ebff;}div.sk-parallel-item::after {content: \"\";width: 100%;border-bottom: 1px solid gray;flex-grow: 1;}div.sk-label:hover label.sk-toggleable__label {background-color: #d4ebff;}div.sk-serial::before {content: \"\";position: absolute;border-left: 1px solid gray;box-sizing: border-box;top: 2em;bottom: 0;left: 50%;}div.sk-serial {display: flex;flex-direction: column;align-items: center;background-color: white;}div.sk-item {z-index: 1;}div.sk-parallel {display: flex;align-items: stretch;justify-content: center;background-color: white;}div.sk-parallel-item {display: flex;flex-direction: column;position: relative;background-color: white;}div.sk-parallel-item:first-child::after {align-self: flex-end;width: 50%;}div.sk-parallel-item:last-child::after {align-self: flex-start;width: 50%;}div.sk-parallel-item:only-child::after {width: 0;}div.sk-dashed-wrapped {border: 1px dashed gray;margin: 0.2em;box-sizing: border-box;padding-bottom: 0.1em;background-color: white;position: relative;}div.sk-label label {font-family: monospace;font-weight: bold;background-color: white;display: inline-block;line-height: 1.2em;}div.sk-label-container {position: relative;z-index: 2;text-align: center;}div.sk-container {display: inline-block;position: relative;}</style><div class=\"sk-top-container\"><div class=\"sk-container\"><div class=\"sk-item sk-dashed-wrapped\"><div class=\"sk-label-container\"><div class=\"sk-label sk-toggleable\"><input class=\"sk-toggleable__control sk-hidden--visually\" id=\"5523d1d9-fb8c-4aa0-8e01-323d0f792b15\" type=\"checkbox\" ><label class=\"sk-toggleable__label\" for=\"5523d1d9-fb8c-4aa0-8e01-323d0f792b15\">Pipeline</label><div class=\"sk-toggleable__content\"><pre>Pipeline(steps=[('preprocess',\n",
       "                 ColumnTransformer(transformers=[('nominalpipe',\n",
       "                                                  Pipeline(steps=[('hotenco',\n",
       "                                                                   OneHotEncoder(drop='first')),\n",
       "                                                                  ('onehotnorm',\n",
       "                                                                   MaxAbsScaler())]),\n",
       "                                                  Index(['BusinessTravel', 'Department', 'EducationField', 'Gender', 'JobRole',\n",
       "       'MaritalStatus', 'AgeRange', 'IncomeDistribution'],\n",
       "      dtype='object')),\n",
       "                                                 ('numpipe',\n",
       "                                                  Pipeline(steps=[('std_scaler',\n",
       "                                                                   Stand...\n",
       "       'PercentSalaryHike', 'PerformanceRating', 'RelationshipSatisfaction',\n",
       "       'StockOptionLevel', 'TotalWorkingYears', 'TrainingTimesLastYear',\n",
       "       'WorkLifeBalance', 'YearsAtCompany', 'YearsInCurrentRole',\n",
       "       'YearsSinceLastPromotion', 'YearsWithCurrManager', 'YearlyIncome'],\n",
       "      dtype='object'))])),\n",
       "                ('under', RandomUnderSampler(sampling_strategy=0.5)),\n",
       "                ('lr', LogisticRegression(C=0.01))])</pre></div></div></div><div class=\"sk-serial\"><div class=\"sk-item sk-dashed-wrapped\"><div class=\"sk-label-container\"><div class=\"sk-label sk-toggleable\"><input class=\"sk-toggleable__control sk-hidden--visually\" id=\"5c150c57-1f6b-4e24-9242-bf98360cef22\" type=\"checkbox\" ><label class=\"sk-toggleable__label\" for=\"5c150c57-1f6b-4e24-9242-bf98360cef22\">preprocess: ColumnTransformer</label><div class=\"sk-toggleable__content\"><pre>ColumnTransformer(transformers=[('nominalpipe',\n",
       "                                 Pipeline(steps=[('hotenco',\n",
       "                                                  OneHotEncoder(drop='first')),\n",
       "                                                 ('onehotnorm',\n",
       "                                                  MaxAbsScaler())]),\n",
       "                                 Index(['BusinessTravel', 'Department', 'EducationField', 'Gender', 'JobRole',\n",
       "       'MaritalStatus', 'AgeRange', 'IncomeDistribution'],\n",
       "      dtype='object')),\n",
       "                                ('numpipe',\n",
       "                                 Pipeline(steps=[('std_scaler',\n",
       "                                                  StandardScaler())]),\n",
       "                                 Index(['Age', 'D...Satisfaction',\n",
       "       'JobInvolvement', 'JobSatisfaction', 'NumCompaniesWorked', 'OverTime',\n",
       "       'PercentSalaryHike', 'PerformanceRating', 'RelationshipSatisfaction',\n",
       "       'StockOptionLevel', 'TotalWorkingYears', 'TrainingTimesLastYear',\n",
       "       'WorkLifeBalance', 'YearsAtCompany', 'YearsInCurrentRole',\n",
       "       'YearsSinceLastPromotion', 'YearsWithCurrManager', 'YearlyIncome'],\n",
       "      dtype='object'))])</pre></div></div></div><div class=\"sk-parallel\"><div class=\"sk-parallel-item\"><div class=\"sk-item\"><div class=\"sk-label-container\"><div class=\"sk-label sk-toggleable\"><input class=\"sk-toggleable__control sk-hidden--visually\" id=\"7dacc580-1c0c-4203-a298-d1599d9ebf68\" type=\"checkbox\" ><label class=\"sk-toggleable__label\" for=\"7dacc580-1c0c-4203-a298-d1599d9ebf68\">nominalpipe</label><div class=\"sk-toggleable__content\"><pre>Index(['BusinessTravel', 'Department', 'EducationField', 'Gender', 'JobRole',\n",
       "       'MaritalStatus', 'AgeRange', 'IncomeDistribution'],\n",
       "      dtype='object')</pre></div></div></div><div class=\"sk-serial\"><div class=\"sk-item\"><div class=\"sk-serial\"><div class=\"sk-item\"><div class=\"sk-estimator sk-toggleable\"><input class=\"sk-toggleable__control sk-hidden--visually\" id=\"6593d4f7-f9f4-440d-9351-99f66552af06\" type=\"checkbox\" ><label class=\"sk-toggleable__label\" for=\"6593d4f7-f9f4-440d-9351-99f66552af06\">OneHotEncoder</label><div class=\"sk-toggleable__content\"><pre>OneHotEncoder(drop='first')</pre></div></div></div><div class=\"sk-item\"><div class=\"sk-estimator sk-toggleable\"><input class=\"sk-toggleable__control sk-hidden--visually\" id=\"6023e0f5-4204-4968-b9e0-791eb1801be6\" type=\"checkbox\" ><label class=\"sk-toggleable__label\" for=\"6023e0f5-4204-4968-b9e0-791eb1801be6\">MaxAbsScaler</label><div class=\"sk-toggleable__content\"><pre>MaxAbsScaler()</pre></div></div></div></div></div></div></div></div><div class=\"sk-parallel-item\"><div class=\"sk-item\"><div class=\"sk-label-container\"><div class=\"sk-label sk-toggleable\"><input class=\"sk-toggleable__control sk-hidden--visually\" id=\"eb5420e9-ce04-42e9-b491-3d81e55f2a89\" type=\"checkbox\" ><label class=\"sk-toggleable__label\" for=\"eb5420e9-ce04-42e9-b491-3d81e55f2a89\">numpipe</label><div class=\"sk-toggleable__content\"><pre>Index(['Age', 'DistanceFromHome', 'Education', 'EnvironmentSatisfaction',\n",
       "       'JobInvolvement', 'JobSatisfaction', 'NumCompaniesWorked', 'OverTime',\n",
       "       'PercentSalaryHike', 'PerformanceRating', 'RelationshipSatisfaction',\n",
       "       'StockOptionLevel', 'TotalWorkingYears', 'TrainingTimesLastYear',\n",
       "       'WorkLifeBalance', 'YearsAtCompany', 'YearsInCurrentRole',\n",
       "       'YearsSinceLastPromotion', 'YearsWithCurrManager', 'YearlyIncome'],\n",
       "      dtype='object')</pre></div></div></div><div class=\"sk-serial\"><div class=\"sk-item\"><div class=\"sk-serial\"><div class=\"sk-item\"><div class=\"sk-estimator sk-toggleable\"><input class=\"sk-toggleable__control sk-hidden--visually\" id=\"6d8ade88-f275-4967-9045-4059b10cc9db\" type=\"checkbox\" ><label class=\"sk-toggleable__label\" for=\"6d8ade88-f275-4967-9045-4059b10cc9db\">StandardScaler</label><div class=\"sk-toggleable__content\"><pre>StandardScaler()</pre></div></div></div></div></div></div></div></div></div></div><div class=\"sk-item\"><div class=\"sk-estimator sk-toggleable\"><input class=\"sk-toggleable__control sk-hidden--visually\" id=\"780a90c4-3279-4f9a-9971-eb033c11222e\" type=\"checkbox\" ><label class=\"sk-toggleable__label\" for=\"780a90c4-3279-4f9a-9971-eb033c11222e\">RandomUnderSampler</label><div class=\"sk-toggleable__content\"><pre>RandomUnderSampler(sampling_strategy=0.5)</pre></div></div></div><div class=\"sk-item\"><div class=\"sk-estimator sk-toggleable\"><input class=\"sk-toggleable__control sk-hidden--visually\" id=\"3936fb8b-0aad-4622-bffd-522954ffd817\" type=\"checkbox\" ><label class=\"sk-toggleable__label\" for=\"3936fb8b-0aad-4622-bffd-522954ffd817\">LogisticRegression</label><div class=\"sk-toggleable__content\"><pre>LogisticRegression(C=0.01)</pre></div></div></div></div></div></div></div>"
      ],
      "text/plain": [
       "Pipeline(steps=[('preprocess',\n",
       "                 ColumnTransformer(transformers=[('nominalpipe',\n",
       "                                                  Pipeline(steps=[('hotenco',\n",
       "                                                                   OneHotEncoder(drop='first')),\n",
       "                                                                  ('onehotnorm',\n",
       "                                                                   MaxAbsScaler())]),\n",
       "                                                  Index(['BusinessTravel', 'Department', 'EducationField', 'Gender', 'JobRole',\n",
       "       'MaritalStatus', 'AgeRange', 'IncomeDistribution'],\n",
       "      dtype='object')),\n",
       "                                                 ('numpipe',\n",
       "                                                  Pipeline(steps=[('std_scaler',\n",
       "                                                                   Stand...\n",
       "       'PercentSalaryHike', 'PerformanceRating', 'RelationshipSatisfaction',\n",
       "       'StockOptionLevel', 'TotalWorkingYears', 'TrainingTimesLastYear',\n",
       "       'WorkLifeBalance', 'YearsAtCompany', 'YearsInCurrentRole',\n",
       "       'YearsSinceLastPromotion', 'YearsWithCurrManager', 'YearlyIncome'],\n",
       "      dtype='object'))])),\n",
       "                ('under', RandomUnderSampler(sampling_strategy=0.5)),\n",
       "                ('lr', LogisticRegression(C=0.01))])"
      ]
     },
     "execution_count": 36,
     "metadata": {},
     "output_type": "execute_result"
    }
   ],
   "source": [
    "final_final_pipe = Pipeline([('preprocess', ct),\n",
    "                       ('under', RandomUnderSampler(sampling_strategy=0.5)),\n",
    "                      ('lr',LogisticRegression(C=1e-2))])\n",
    "\n",
    "final_final_pipe.fit(X_train, y_train)\n"
   ]
  },
  {
   "cell_type": "code",
   "execution_count": 37,
   "metadata": {},
   "outputs": [],
   "source": [
    "predict=final_final_pipe.predict(X_test)"
   ]
  },
  {
   "cell_type": "code",
   "execution_count": 38,
   "metadata": {},
   "outputs": [
    {
     "name": "stdout",
     "output_type": "stream",
     "text": [
      "Accuracy Score: 0.8945578231292517\n",
      "Precision Score: 0.6428571428571429\n",
      "Recall Score: 0.46153846153846156\n",
      "F1 Score: 0.537313432835821\n"
     ]
    },
    {
     "data": {
      "image/png": "[encoded data removed]",
      "text/plain": [
       "<Figure size 432x288 with 2 Axes>"
      ]
     },
     "metadata": {},
     "output_type": "display_data"
    }
   ],
   "source": [
    "plot_confusion_matrix(final_final_pipe, X_test,\n",
    "                      y_test,cmap=\"GnBu_r\")\n",
    "print(f'Accuracy Score: {accuracy_score(y_test,predict)}')\n",
    "print(f'Precision Score: {precision_score(y_test,predict)}')\n",
    "print(f'Recall Score: {recall_score(y_test,predict)}')\n",
    "print(f'F1 Score: {f1_score(y_test,predict)}')"
   ]
  },
  {
   "cell_type": "markdown",
   "metadata": {},
   "source": [
    "### Extract Weighted Factors"
   ]
  },
  {
   "cell_type": "code",
   "execution_count": 39,
   "metadata": {},
   "outputs": [],
   "source": [
    "feature_weight=final_final_pipe[-1].coef_"
   ]
  },
  {
   "cell_type": "code",
   "execution_count": 40,
   "metadata": {},
   "outputs": [],
   "source": [
    "ohe = OneHotEncoder(handle_unknown = 'ignore')\n",
    "\n",
    "ohe_train = ohe.fit_transform(X_train[nominal_cols]).toarray()\n",
    "ohe_test = ohe.transform(X_test[nominal_cols]).toarray()\n",
    "\n",
    "ohe_train = pd.DataFrame(ohe_train, columns = ohe.get_feature_names())\n",
    "ohe_test = pd.DataFrame(ohe_test, columns = ohe.get_feature_names())\n",
    "\n",
    "col=X_train.drop(X_train[nominal_cols],axis=1)\n",
    "features=col.columns\n",
    "\n",
    "ohe_cols=ohe_train.columns\n",
    "column_names=np.append(features,ohe_cols)"
   ]
  },
  {
   "cell_type": "code",
   "execution_count": 41,
   "metadata": {
    "scrolled": true
   },
   "outputs": [],
   "source": [
    "lrweight=feature_weight[0]"
   ]
  },
  {
   "cell_type": "code",
   "execution_count": 42,
   "metadata": {},
   "outputs": [],
   "source": [
    "lrweightgraph=lrweight[0:20]"
   ]
  },
  {
   "cell_type": "code",
   "execution_count": 43,
   "metadata": {},
   "outputs": [],
   "source": [
    "feature_importance=zip(features,lrweight)"
   ]
  },
  {
   "cell_type": "code",
   "execution_count": 44,
   "metadata": {},
   "outputs": [
    {
     "data": {
      "text/plain": [
       "<zip at 0x7fee900ec280>"
      ]
     },
     "execution_count": 44,
     "metadata": {},
     "output_type": "execute_result"
    }
   ],
   "source": [
    "feature_importance"
   ]
  },
  {
   "cell_type": "code",
   "execution_count": 45,
   "metadata": {},
   "outputs": [
    {
     "data": {
      "text/plain": [
       "20"
      ]
     },
     "execution_count": 45,
     "metadata": {},
     "output_type": "execute_result"
    }
   ],
   "source": [
    "len(features)"
   ]
  },
  {
   "cell_type": "code",
   "execution_count": 46,
   "metadata": {},
   "outputs": [
    {
     "data": {
      "text/plain": [
       "20"
      ]
     },
     "execution_count": 46,
     "metadata": {},
     "output_type": "execute_result"
    }
   ],
   "source": [
    "len(lrweightgraph)"
   ]
  },
  {
   "cell_type": "code",
   "execution_count": 47,
   "metadata": {},
   "outputs": [
    {
     "data": {
      "text/plain": [
       "array([ 0.09620908, -0.02064925, -0.12366615,  0.11544469, -0.02599387,\n",
       "        0.0205984 , -0.05624765, -0.01360643,  0.0529285 ,  0.05477616,\n",
       "        0.01094918,  0.06774923, -0.0134818 , -0.05042249, -0.036608  ,\n",
       "       -0.01464963,  0.01630816,  0.09529869, -0.05194178,  0.15845365])"
      ]
     },
     "execution_count": 47,
     "metadata": {},
     "output_type": "execute_result"
    }
   ],
   "source": [
    "lrweightgraph"
   ]
  },
  {
   "cell_type": "code",
   "execution_count": 48,
   "metadata": {},
   "outputs": [],
   "source": [
    "feature=np.array(features)\n",
    "weight=np.array(lrweightgraph)"
   ]
  },
  {
   "cell_type": "code",
   "execution_count": 49,
   "metadata": {},
   "outputs": [],
   "source": [
    "coef = pd.DataFrame({'feature': feature, 'weight': list(weight)}, columns=['feature', 'weight'])\n",
    "coef=coef.sort_values(by='weight')"
   ]
  },
  {
   "cell_type": "code",
   "execution_count": 50,
   "metadata": {
    "scrolled": false
   },
   "outputs": [
    {
     "data": {
      "image/png": "[encoded data removed]",
      "text/plain": [
       "<Figure size 432x288 with 1 Axes>"
      ]
     },
     "metadata": {},
     "output_type": "display_data"
    }
   ],
   "source": [
    "sns.barplot(data=coef,x='feature',y='weight',palette='mako')\n",
    "plt.xticks(rotation=90)\n",
    "plt.xlabel('Features')\n",
    "plt.ylabel('Coef')\n",
    "plt.title('Weighted Factor')\n",
    "plt.show()"
   ]
  },
  {
   "cell_type": "code",
   "execution_count": 356,
   "metadata": {},
   "outputs": [
    {
     "data": {
      "text/plain": [
       "<sklearn.metrics._plot.confusion_matrix.ConfusionMatrixDisplay at 0x7f9878fea6a0>"
      ]
     },
     "execution_count": 356,
     "metadata": {},
     "output_type": "execute_result"
    },
    {
     "data": {
      "image/png": "[encoded data removed]",
      "text/plain": [
       "<Figure size 576x396 with 2 Axes>"
      ]
     },
     "metadata": {},
     "output_type": "display_data"
    }
   ],
   "source": [
    "plot_confusion_matrix(final_final_pipe, X_test,\n",
    "                      y_test)"
   ]
  },
  {
   "cell_type": "markdown",
   "metadata": {},
   "source": [
    "## Modeling 2 - Decision Tree "
   ]
  },
  {
   "cell_type": "code",
   "execution_count": 51,
   "metadata": {},
   "outputs": [],
   "source": [
    "from sklearn.tree import DecisionTreeClassifier,plot_tree\n",
    "from sklearn.model_selection import train_test_split, GridSearchCV,\\\n",
    "cross_val_score, RandomizedSearchCV"
   ]
  },
  {
   "cell_type": "code",
   "execution_count": 52,
   "metadata": {},
   "outputs": [],
   "source": [
    "numeric_pipeline = Pipeline([('std_scaler', StandardScaler())])\n",
    "\n",
    "nominal_pipeline=Pipeline([('hotenco',OneHotEncoder(categories='auto',drop='first')),('onehotnorm',MaxAbsScaler())])\n",
    "\n",
    "ct = ColumnTransformer([ \n",
    "     (\"nominalpipe\", nominal_pipeline,nominal_cols),\n",
    "     (\"numpipe\", numeric_pipeline,num_cols)])"
   ]
  },
  {
   "cell_type": "code",
   "execution_count": 53,
   "metadata": {},
   "outputs": [
    {
     "data": {
      "text/plain": [
       "0    1233\n",
       "1     237\n",
       "Name: Attrition, dtype: int64"
      ]
     },
     "execution_count": 53,
     "metadata": {},
     "output_type": "execute_result"
    }
   ],
   "source": [
    "masterdf['Attrition'].value_counts()"
   ]
  },
  {
   "cell_type": "code",
   "execution_count": 54,
   "metadata": {},
   "outputs": [],
   "source": [
    "decisionT_pipe=Pipeline([\n",
    "        (\"preprocess\", ct),\n",
    "        ('under', RandomUnderSampler(sampling_strategy=0.5)),\n",
    "        ('rf_clf', DecisionTreeClassifier(random_state=42))])"
   ]
  },
  {
   "cell_type": "code",
   "execution_count": 55,
   "metadata": {
    "scrolled": false
   },
   "outputs": [],
   "source": [
    "decisionT_pipe.fit(X_train, y_train)\n",
    "predicted = decisionT_pipe.predict(X_test)"
   ]
  },
  {
   "cell_type": "code",
   "execution_count": 56,
   "metadata": {},
   "outputs": [
    {
     "data": {
      "text/plain": [
       "<sklearn.metrics._plot.confusion_matrix.ConfusionMatrixDisplay at 0x7fee614eb280>"
      ]
     },
     "execution_count": 56,
     "metadata": {},
     "output_type": "execute_result"
    },
    {
     "data": {
      "image/png": "[encoded data removed]",
      "text/plain": [
       "<Figure size 432x288 with 2 Axes>"
      ]
     },
     "metadata": {},
     "output_type": "display_data"
    }
   ],
   "source": [
    "plot_confusion_matrix(decisionT_pipe, X_train,\n",
    "                      y_train)"
   ]
  },
  {
   "cell_type": "code",
   "execution_count": 57,
   "metadata": {},
   "outputs": [
    {
     "data": {
      "text/plain": [
       "<sklearn.metrics._plot.confusion_matrix.ConfusionMatrixDisplay at 0x7fee802ae340>"
      ]
     },
     "execution_count": 57,
     "metadata": {},
     "output_type": "execute_result"
    },
    {
     "data": {
      "image/png": "[encoded data removed]",
      "text/plain": [
       "<Figure size 432x288 with 2 Axes>"
      ]
     },
     "metadata": {},
     "output_type": "display_data"
    }
   ],
   "source": [
    "plot_confusion_matrix(decisionT_pipe, X_test,\n",
    "                      y_test)"
   ]
  },
  {
   "cell_type": "code",
   "execution_count": 58,
   "metadata": {},
   "outputs": [
    {
     "name": "stdout",
     "output_type": "stream",
     "text": [
      "              precision    recall  f1-score   support\n",
      "\n",
      "           0       0.93      0.89      0.91       255\n",
      "           1       0.44      0.54      0.48        39\n",
      "\n",
      "    accuracy                           0.85       294\n",
      "   macro avg       0.68      0.72      0.70       294\n",
      "weighted avg       0.86      0.85      0.85       294\n",
      "\n"
     ]
    }
   ],
   "source": [
    "print(classification_report(y_test,y_pred))"
   ]
  },
  {
   "cell_type": "code",
   "execution_count": 59,
   "metadata": {},
   "outputs": [
    {
     "name": "stdout",
     "output_type": "stream",
     "text": [
      "Accuracy Score: 0.7210884353741497\n",
      "Precision Score: 0.2054794520547945\n",
      "Recall Score: 0.38461538461538464\n",
      "F1 Score: 0.26785714285714285\n"
     ]
    }
   ],
   "source": [
    "print(f'Accuracy Score: {accuracy_score(y_test,predicted)}')\n",
    "print(f'Precision Score: {precision_score(y_test,predicted)}')\n",
    "print(f'Recall Score: {recall_score(y_test,predicted)}')\n",
    "print(f'F1 Score: {f1_score(y_test,predicted)}')"
   ]
  },
  {
   "cell_type": "markdown",
   "metadata": {},
   "source": [
    "###### Model tuning to achieve a better result"
   ]
  },
  {
   "cell_type": "code",
   "execution_count": 60,
   "metadata": {},
   "outputs": [
    {
     "data": {
      "text/plain": [
       "{'rf_clf__criterion': 'entropy',\n",
       " 'rf_clf__max_depth': 5,\n",
       " 'rf_clf__min_samples_leaf': 30,\n",
       " 'rf_clf__min_samples_split': 100}"
      ]
     },
     "execution_count": 60,
     "metadata": {},
     "output_type": "execute_result"
    }
   ],
   "source": [
    "grid_param = [{\n",
    "    'rf_clf__max_depth': [3,4,5],\n",
    "    'rf_clf__min_samples_leaf':[20,30,40],\n",
    "    'rf_clf__min_samples_split':[75,100,120],\n",
    "    'rf_clf__criterion':['entropy','gini']\n",
    "    \n",
    "}]\n",
    "\n",
    "tree=GridSearchCV(estimator = decisionT_pipe,param_grid=grid_param,cv=3)\n",
    "tree.fit(X_train,y_train)\n",
    "\n",
    "tree.best_params_"
   ]
  },
  {
   "cell_type": "code",
   "execution_count": 61,
   "metadata": {
    "scrolled": true
   },
   "outputs": [],
   "source": [
    "bestresult=tree.best_estimator_"
   ]
  },
  {
   "cell_type": "code",
   "execution_count": 62,
   "metadata": {},
   "outputs": [],
   "source": [
    "def results(model,X, y):\n",
    "    y_pred = model.predict(X)\n",
    "    print(f'Accuracy Score: {accuracy_score(y,y_pred)}')\n",
    "    print(f'Precision Score: {precision_score(y,y_pred)}')\n",
    "    print(f'Recall Score: {recall_score(y,y_pred)}')\n",
    "    print(f'F1 Score: {f1_score(y,y_pred)}')\n",
    "    plot_confusion_matrix(model,X,y,cmap=\"GnBu_r\")"
   ]
  },
  {
   "cell_type": "code",
   "execution_count": 64,
   "metadata": {
    "scrolled": true
   },
   "outputs": [
    {
     "name": "stdout",
     "output_type": "stream",
     "text": [
      "Accuracy Score: 0.8001700680272109\n",
      "Precision Score: 0.4332129963898917\n",
      "Recall Score: 0.6060606060606061\n",
      "F1 Score: 0.5052631578947369\n"
     ]
    },
    {
     "data": {
      "image/png": "[encoded data removed]",
      "text/plain": [
       "<Figure size 432x288 with 2 Axes>"
      ]
     },
     "metadata": {},
     "output_type": "display_data"
    }
   ],
   "source": [
    "results(bestresult,X_train,y_train)"
   ]
  },
  {
   "cell_type": "code",
   "execution_count": 65,
   "metadata": {},
   "outputs": [
    {
     "name": "stdout",
     "output_type": "stream",
     "text": [
      "Accuracy Score: 0.7380952380952381\n",
      "Precision Score: 0.22058823529411764\n",
      "Recall Score: 0.38461538461538464\n",
      "F1 Score: 0.2803738317757009\n"
     ]
    },
    {
     "data": {
      "image/png": "[encoded data removed]",
      "text/plain": [
       "<Figure size 432x288 with 2 Axes>"
      ]
     },
     "metadata": {},
     "output_type": "display_data"
    }
   ],
   "source": [
    "results(bestresult,X_test,y_test)"
   ]
  },
  {
   "cell_type": "markdown",
   "metadata": {},
   "source": [
    "###### Best outcome for Decision Tree model"
   ]
  },
  {
   "cell_type": "code",
   "execution_count": 68,
   "metadata": {},
   "outputs": [
    {
     "name": "stdout",
     "output_type": "stream",
     "text": [
      "Accuracy Score: 0.7857142857142857\n",
      "Precision Score: 0.26\n",
      "Recall Score: 0.3333333333333333\n",
      "F1 Score: 0.2921348314606742\n"
     ]
    }
   ],
   "source": [
    "Final_decisionT_pipe=Pipeline([\n",
    "        (\"preprocess\", ct),\n",
    "        ('under', RandomUnderSampler(sampling_strategy=0.5)),\n",
    "        ('rf_clf', DecisionTreeClassifier(criterion = 'entropy', max_depth = 5,min_samples_leaf=30,min_samples_split=100, random_state=42))])\n",
    "Final_decisionT_pipe.fit(X_train,y_train)\n",
    "decisionT_predicted = Final_decisionT_pipe.predict(X_test)\n",
    "print(f'Accuracy Score: {accuracy_score(y_test,decisionT_predicted)}')\n",
    "print(f'Precision Score: {precision_score(y_test,decisionT_predicted)}')\n",
    "print(f'Recall Score: {recall_score(y_test,decisionT_predicted)}')\n",
    "print(f'F1 Score: {f1_score(y_test,decisionT_predicted)}')"
   ]
  },
  {
   "cell_type": "code",
   "execution_count": 69,
   "metadata": {
    "scrolled": true
   },
   "outputs": [
    {
     "name": "stdout",
     "output_type": "stream",
     "text": [
      "              precision    recall  f1-score   support\n",
      "\n",
      "           0       0.93      0.89      0.91       255\n",
      "           1       0.44      0.54      0.48        39\n",
      "\n",
      "    accuracy                           0.85       294\n",
      "   macro avg       0.68      0.72      0.70       294\n",
      "weighted avg       0.86      0.85      0.85       294\n",
      "\n"
     ]
    }
   ],
   "source": [
    "print(classification_report(y_test,y_pred))"
   ]
  },
  {
   "cell_type": "markdown",
   "metadata": {},
   "source": [
    "## Modeling 3 - KNN - K Nearest Neighbour"
   ]
  },
  {
   "cell_type": "code",
   "execution_count": 70,
   "metadata": {},
   "outputs": [],
   "source": [
    "from sklearn.neighbors import KNeighborsClassifier\n",
    "from sklearn.model_selection import train_test_split, GridSearchCV,\\\n",
    "cross_val_score, RandomizedSearchCV"
   ]
  },
  {
   "cell_type": "code",
   "execution_count": 71,
   "metadata": {},
   "outputs": [],
   "source": [
    "decisionT_pipe.steps.pop(-1)\n",
    "decisionT_pipe.steps.append(['KNN', KNeighborsClassifier()])"
   ]
  },
  {
   "cell_type": "code",
   "execution_count": 72,
   "metadata": {},
   "outputs": [],
   "source": [
    "KNN_pipe=decisionT_pipe"
   ]
  },
  {
   "cell_type": "code",
   "execution_count": 73,
   "metadata": {},
   "outputs": [],
   "source": [
    "KNN_pipe.fit(X_train, y_train)\n",
    "predicted = KNN_pipe.predict(X_test)"
   ]
  },
  {
   "cell_type": "code",
   "execution_count": 74,
   "metadata": {
    "scrolled": false
   },
   "outputs": [
    {
     "data": {
      "text/plain": [
       "<sklearn.metrics._plot.confusion_matrix.ConfusionMatrixDisplay at 0x7fee61179400>"
      ]
     },
     "execution_count": 74,
     "metadata": {},
     "output_type": "execute_result"
    },
    {
     "data": {
      "image/png": "[encoded data removed]",
      "text/plain": [
       "<Figure size 432x288 with 2 Axes>"
      ]
     },
     "metadata": {},
     "output_type": "display_data"
    }
   ],
   "source": [
    "plot_confusion_matrix(KNN_pipe, X_test,\n",
    "                      y_test)"
   ]
  },
  {
   "cell_type": "code",
   "execution_count": 75,
   "metadata": {
    "scrolled": false
   },
   "outputs": [
    {
     "name": "stdout",
     "output_type": "stream",
     "text": [
      "              precision    recall  f1-score   support\n",
      "\n",
      "           0       0.93      0.89      0.91       255\n",
      "           1       0.44      0.54      0.48        39\n",
      "\n",
      "    accuracy                           0.85       294\n",
      "   macro avg       0.68      0.72      0.70       294\n",
      "weighted avg       0.86      0.85      0.85       294\n",
      "\n"
     ]
    }
   ],
   "source": [
    "print(classification_report(y_test,y_pred))"
   ]
  },
  {
   "cell_type": "markdown",
   "metadata": {},
   "source": [
    "###### Tuning - KNN"
   ]
  },
  {
   "cell_type": "code",
   "execution_count": 76,
   "metadata": {
    "scrolled": true
   },
   "outputs": [
    {
     "name": "stdout",
     "output_type": "stream",
     "text": [
      "CPU times: user 627 ms, sys: 5.82 ms, total: 633 ms\n",
      "Wall time: 633 ms\n"
     ]
    },
    {
     "data": {
      "text/plain": [
       "{'KNN__metric': 'manhattan', 'KNN__n_neighbors': 18, 'KNN__weights': 'uniform'}"
      ]
     },
     "execution_count": 76,
     "metadata": {},
     "output_type": "execute_result"
    }
   ],
   "source": [
    "%%time\n",
    "param=[{'KNN__n_neighbors': [10,12,15,18],\n",
    "    'KNN__metric': ['manhattan','minkowski'],\n",
    "    'KNN__weights': ['uniform']\n",
    "}]\n",
    "\n",
    "KNN=GridSearchCV(estimator = KNN_pipe, param_grid=param, cv=3)\n",
    "\n",
    "KNN.fit(X_train,y_train)\n",
    "\n",
    "KNN.best_params_"
   ]
  },
  {
   "cell_type": "code",
   "execution_count": 77,
   "metadata": {},
   "outputs": [],
   "source": [
    "bestresult=KNN.best_estimator_\n",
    "\n",
    "def results(model,X, y):\n",
    "    y_pred = model.predict(X)\n",
    "    print(f'Accuracy Score: {accuracy_score(y,y_pred)}')\n",
    "    print(f'Precision Score: {precision_score(y,y_pred)}')\n",
    "    print(f'Recall Score: {recall_score(y,y_pred)}')\n",
    "    print(f'F1 Score: {f1_score(y,y_pred)}')\n",
    "    plot_confusion_matrix(model,X,y,cmap=\"GnBu_r\")\n"
   ]
  },
  {
   "cell_type": "code",
   "execution_count": 78,
   "metadata": {},
   "outputs": [],
   "source": [
    "KNN_pipe.fit(X_train,y_train)\n",
    "predict=KNN_pipe.predict(X_test)"
   ]
  },
  {
   "cell_type": "code",
   "execution_count": 79,
   "metadata": {
    "scrolled": false
   },
   "outputs": [
    {
     "name": "stdout",
     "output_type": "stream",
     "text": [
      "Accuracy Score: 0.8613945578231292\n",
      "Precision Score: 0.7108433734939759\n",
      "Recall Score: 0.29797979797979796\n",
      "F1 Score: 0.4199288256227757\n"
     ]
    },
    {
     "data": {
      "image/png": "[encoded data removed]",
      "text/plain": [
       "<Figure size 432x288 with 2 Axes>"
      ]
     },
     "metadata": {},
     "output_type": "display_data"
    }
   ],
   "source": [
    "results(bestresult,X_train,y_train)"
   ]
  },
  {
   "cell_type": "code",
   "execution_count": 80,
   "metadata": {},
   "outputs": [
    {
     "name": "stdout",
     "output_type": "stream",
     "text": [
      "Accuracy Score: 0.8809523809523809\n",
      "Precision Score: 0.7\n",
      "Recall Score: 0.1794871794871795\n",
      "F1 Score: 0.2857142857142857\n"
     ]
    },
    {
     "data": {
      "image/png": "[encoded data removed]",
      "text/plain": [
       "<Figure size 432x288 with 2 Axes>"
      ]
     },
     "metadata": {},
     "output_type": "display_data"
    }
   ],
   "source": [
    "results(bestresult,X_test,y_test)"
   ]
  },
  {
   "cell_type": "markdown",
   "metadata": {},
   "source": [
    "###### Best outcome for KNN"
   ]
  },
  {
   "cell_type": "code",
   "execution_count": 81,
   "metadata": {},
   "outputs": [
    {
     "name": "stdout",
     "output_type": "stream",
     "text": [
      "Accuracy Score: 0.8775510204081632\n",
      "Precision Score: 0.6\n",
      "Recall Score: 0.23076923076923078\n",
      "F1 Score: 0.33333333333333337\n"
     ]
    }
   ],
   "source": [
    "Final_KNN_pipe=Pipeline([\n",
    "        (\"preprocess\", ct),\n",
    "        ('under', RandomUnderSampler(sampling_strategy=0.5)),\n",
    "        ('KNN', KNeighborsClassifier(metric='manhattan', n_neighbors = 12, weights= 'uniform'))])\n",
    "Final_KNN_pipe.fit(X_train,y_train)\n",
    "predicted_final = Final_KNN_pipe.predict(X_test)\n",
    "print(f'Accuracy Score: {accuracy_score(y_test,predicted_final)}')\n",
    "print(f'Precision Score: {precision_score(y_test,predicted_final)}')\n",
    "print(f'Recall Score: {recall_score(y_test,predicted_final)}')\n",
    "print(f'F1 Score: {f1_score(y_test,predicted_final)}')"
   ]
  },
  {
   "cell_type": "markdown",
   "metadata": {},
   "source": [
    "## Modeling 4 - XG Boosting"
   ]
  },
  {
   "cell_type": "code",
   "execution_count": 82,
   "metadata": {},
   "outputs": [],
   "source": [
    "from xgboost import XGBClassifier"
   ]
  },
  {
   "cell_type": "code",
   "execution_count": 83,
   "metadata": {},
   "outputs": [],
   "source": [
    "KNN_pipe.steps.pop(-1)\n",
    "KNN_pipe.steps.append(['Booster', XGBClassifier()])"
   ]
  },
  {
   "cell_type": "code",
   "execution_count": 84,
   "metadata": {},
   "outputs": [],
   "source": [
    "Boost_pipe=KNN_pipe"
   ]
  },
  {
   "cell_type": "code",
   "execution_count": 85,
   "metadata": {
    "scrolled": true
   },
   "outputs": [
    {
     "data": {
      "text/html": [
       "<style>div.sk-top-container {color: black;background-color: white;}div.sk-toggleable {background-color: white;}label.sk-toggleable__label {cursor: pointer;display: block;width: 100%;margin-bottom: 0;padding: 0.2em 0.3em;box-sizing: border-box;text-align: center;}div.sk-toggleable__content {max-height: 0;max-width: 0;overflow: hidden;text-align: left;background-color: #f0f8ff;}div.sk-toggleable__content pre {margin: 0.2em;color: black;border-radius: 0.25em;background-color: #f0f8ff;}input.sk-toggleable__control:checked~div.sk-toggleable__content {max-height: 200px;max-width: 100%;overflow: auto;}div.sk-estimator input.sk-toggleable__control:checked~label.sk-toggleable__label {background-color: #d4ebff;}div.sk-label input.sk-toggleable__control:checked~label.sk-toggleable__label {background-color: #d4ebff;}input.sk-hidden--visually {border: 0;clip: rect(1px 1px 1px 1px);clip: rect(1px, 1px, 1px, 1px);height: 1px;margin: -1px;overflow: hidden;padding: 0;position: absolute;width: 1px;}div.sk-estimator {font-family: monospace;background-color: #f0f8ff;margin: 0.25em 0.25em;border: 1px dotted black;border-radius: 0.25em;box-sizing: border-box;}div.sk-estimator:hover {background-color: #d4ebff;}div.sk-parallel-item::after {content: \"\";width: 100%;border-bottom: 1px solid gray;flex-grow: 1;}div.sk-label:hover label.sk-toggleable__label {background-color: #d4ebff;}div.sk-serial::before {content: \"\";position: absolute;border-left: 1px solid gray;box-sizing: border-box;top: 2em;bottom: 0;left: 50%;}div.sk-serial {display: flex;flex-direction: column;align-items: center;background-color: white;}div.sk-item {z-index: 1;}div.sk-parallel {display: flex;align-items: stretch;justify-content: center;background-color: white;}div.sk-parallel-item {display: flex;flex-direction: column;position: relative;background-color: white;}div.sk-parallel-item:first-child::after {align-self: flex-end;width: 50%;}div.sk-parallel-item:last-child::after {align-self: flex-start;width: 50%;}div.sk-parallel-item:only-child::after {width: 0;}div.sk-dashed-wrapped {border: 1px dashed gray;margin: 0.2em;box-sizing: border-box;padding-bottom: 0.1em;background-color: white;position: relative;}div.sk-label label {font-family: monospace;font-weight: bold;background-color: white;display: inline-block;line-height: 1.2em;}div.sk-label-container {position: relative;z-index: 2;text-align: center;}div.sk-container {display: inline-block;position: relative;}</style><div class=\"sk-top-container\"><div class=\"sk-container\"><div class=\"sk-item sk-dashed-wrapped\"><div class=\"sk-label-container\"><div class=\"sk-label sk-toggleable\"><input class=\"sk-toggleable__control sk-hidden--visually\" id=\"806ecb69-6ca1-4ec4-a549-c0f6c4da3f3f\" type=\"checkbox\" ><label class=\"sk-toggleable__label\" for=\"806ecb69-6ca1-4ec4-a549-c0f6c4da3f3f\">Pipeline</label><div class=\"sk-toggleable__content\"><pre>Pipeline(steps=[('preprocess',\n",
       "                 ColumnTransformer(transformers=[('nominalpipe',\n",
       "                                                  Pipeline(steps=[('hotenco',\n",
       "                                                                   OneHotEncoder(drop='first')),\n",
       "                                                                  ('onehotnorm',\n",
       "                                                                   MaxAbsScaler())]),\n",
       "                                                  Index(['BusinessTravel', 'Department', 'EducationField', 'Gender', 'JobRole',\n",
       "       'MaritalStatus', 'AgeRange', 'IncomeDistribution'],\n",
       "      dtype='object')),\n",
       "                                                 ('numpipe',\n",
       "                                                  Pipeline(steps=[('std_scaler',\n",
       "                                                                   Stand...\n",
       "                               colsample_bytree=1, gamma=0, gpu_id=-1,\n",
       "                               importance_type='gain',\n",
       "                               interaction_constraints='',\n",
       "                               learning_rate=0.300000012, max_delta_step=0,\n",
       "                               max_depth=6, min_child_weight=1, missing=nan,\n",
       "                               monotone_constraints='()', n_estimators=100,\n",
       "                               n_jobs=0, num_parallel_tree=1, random_state=0,\n",
       "                               reg_alpha=0, reg_lambda=1, scale_pos_weight=1,\n",
       "                               subsample=1, tree_method='exact',\n",
       "                               validate_parameters=1, verbosity=None)]])</pre></div></div></div><div class=\"sk-serial\"><div class=\"sk-item sk-dashed-wrapped\"><div class=\"sk-label-container\"><div class=\"sk-label sk-toggleable\"><input class=\"sk-toggleable__control sk-hidden--visually\" id=\"67752646-8095-4b5d-9b5e-3fb6f798c1ce\" type=\"checkbox\" ><label class=\"sk-toggleable__label\" for=\"67752646-8095-4b5d-9b5e-3fb6f798c1ce\">preprocess: ColumnTransformer</label><div class=\"sk-toggleable__content\"><pre>ColumnTransformer(transformers=[('nominalpipe',\n",
       "                                 Pipeline(steps=[('hotenco',\n",
       "                                                  OneHotEncoder(drop='first')),\n",
       "                                                 ('onehotnorm',\n",
       "                                                  MaxAbsScaler())]),\n",
       "                                 Index(['BusinessTravel', 'Department', 'EducationField', 'Gender', 'JobRole',\n",
       "       'MaritalStatus', 'AgeRange', 'IncomeDistribution'],\n",
       "      dtype='object')),\n",
       "                                ('numpipe',\n",
       "                                 Pipeline(steps=[('std_scaler',\n",
       "                                                  StandardScaler())]),\n",
       "                                 Index(['Age', 'D...Satisfaction',\n",
       "       'JobInvolvement', 'JobSatisfaction', 'NumCompaniesWorked', 'OverTime',\n",
       "       'PercentSalaryHike', 'PerformanceRating', 'RelationshipSatisfaction',\n",
       "       'StockOptionLevel', 'TotalWorkingYears', 'TrainingTimesLastYear',\n",
       "       'WorkLifeBalance', 'YearsAtCompany', 'YearsInCurrentRole',\n",
       "       'YearsSinceLastPromotion', 'YearsWithCurrManager', 'YearlyIncome'],\n",
       "      dtype='object'))])</pre></div></div></div><div class=\"sk-parallel\"><div class=\"sk-parallel-item\"><div class=\"sk-item\"><div class=\"sk-label-container\"><div class=\"sk-label sk-toggleable\"><input class=\"sk-toggleable__control sk-hidden--visually\" id=\"d767400d-823a-493a-bc64-f444ba2be9fa\" type=\"checkbox\" ><label class=\"sk-toggleable__label\" for=\"d767400d-823a-493a-bc64-f444ba2be9fa\">nominalpipe</label><div class=\"sk-toggleable__content\"><pre>Index(['BusinessTravel', 'Department', 'EducationField', 'Gender', 'JobRole',\n",
       "       'MaritalStatus', 'AgeRange', 'IncomeDistribution'],\n",
       "      dtype='object')</pre></div></div></div><div class=\"sk-serial\"><div class=\"sk-item\"><div class=\"sk-serial\"><div class=\"sk-item\"><div class=\"sk-estimator sk-toggleable\"><input class=\"sk-toggleable__control sk-hidden--visually\" id=\"bd65ab10-0754-4951-95d5-390806a3aec5\" type=\"checkbox\" ><label class=\"sk-toggleable__label\" for=\"bd65ab10-0754-4951-95d5-390806a3aec5\">OneHotEncoder</label><div class=\"sk-toggleable__content\"><pre>OneHotEncoder(drop='first')</pre></div></div></div><div class=\"sk-item\"><div class=\"sk-estimator sk-toggleable\"><input class=\"sk-toggleable__control sk-hidden--visually\" id=\"7f70927f-b89a-49ef-baf4-2c21f15f2518\" type=\"checkbox\" ><label class=\"sk-toggleable__label\" for=\"7f70927f-b89a-49ef-baf4-2c21f15f2518\">MaxAbsScaler</label><div class=\"sk-toggleable__content\"><pre>MaxAbsScaler()</pre></div></div></div></div></div></div></div></div><div class=\"sk-parallel-item\"><div class=\"sk-item\"><div class=\"sk-label-container\"><div class=\"sk-label sk-toggleable\"><input class=\"sk-toggleable__control sk-hidden--visually\" id=\"01993096-bd9b-4bb8-ad6a-681c56f74853\" type=\"checkbox\" ><label class=\"sk-toggleable__label\" for=\"01993096-bd9b-4bb8-ad6a-681c56f74853\">numpipe</label><div class=\"sk-toggleable__content\"><pre>Index(['Age', 'DistanceFromHome', 'Education', 'EnvironmentSatisfaction',\n",
       "       'JobInvolvement', 'JobSatisfaction', 'NumCompaniesWorked', 'OverTime',\n",
       "       'PercentSalaryHike', 'PerformanceRating', 'RelationshipSatisfaction',\n",
       "       'StockOptionLevel', 'TotalWorkingYears', 'TrainingTimesLastYear',\n",
       "       'WorkLifeBalance', 'YearsAtCompany', 'YearsInCurrentRole',\n",
       "       'YearsSinceLastPromotion', 'YearsWithCurrManager', 'YearlyIncome'],\n",
       "      dtype='object')</pre></div></div></div><div class=\"sk-serial\"><div class=\"sk-item\"><div class=\"sk-serial\"><div class=\"sk-item\"><div class=\"sk-estimator sk-toggleable\"><input class=\"sk-toggleable__control sk-hidden--visually\" id=\"c9d76267-4503-47f4-a16e-8a3cca7312d1\" type=\"checkbox\" ><label class=\"sk-toggleable__label\" for=\"c9d76267-4503-47f4-a16e-8a3cca7312d1\">StandardScaler</label><div class=\"sk-toggleable__content\"><pre>StandardScaler()</pre></div></div></div></div></div></div></div></div></div></div><div class=\"sk-item\"><div class=\"sk-estimator sk-toggleable\"><input class=\"sk-toggleable__control sk-hidden--visually\" id=\"11770c9b-6c3c-4483-bcaf-d87cfafba721\" type=\"checkbox\" ><label class=\"sk-toggleable__label\" for=\"11770c9b-6c3c-4483-bcaf-d87cfafba721\">RandomUnderSampler</label><div class=\"sk-toggleable__content\"><pre>RandomUnderSampler(sampling_strategy=0.5)</pre></div></div></div><div class=\"sk-item\"><div class=\"sk-estimator sk-toggleable\"><input class=\"sk-toggleable__control sk-hidden--visually\" id=\"81c42a8c-1d6b-47cc-af96-ae0a5c5b82c1\" type=\"checkbox\" ><label class=\"sk-toggleable__label\" for=\"81c42a8c-1d6b-47cc-af96-ae0a5c5b82c1\">XGBClassifier</label><div class=\"sk-toggleable__content\"><pre>XGBClassifier(base_score=0.5, booster='gbtree', colsample_bylevel=1,\n",
       "              colsample_bynode=1, colsample_bytree=1, gamma=0, gpu_id=-1,\n",
       "              importance_type='gain', interaction_constraints='',\n",
       "              learning_rate=0.300000012, max_delta_step=0, max_depth=6,\n",
       "              min_child_weight=1, missing=nan, monotone_constraints='()',\n",
       "              n_estimators=100, n_jobs=0, num_parallel_tree=1, random_state=0,\n",
       "              reg_alpha=0, reg_lambda=1, scale_pos_weight=1, subsample=1,\n",
       "              tree_method='exact', validate_parameters=1, verbosity=None)</pre></div></div></div></div></div></div></div>"
      ],
      "text/plain": [
       "Pipeline(steps=[('preprocess',\n",
       "                 ColumnTransformer(transformers=[('nominalpipe',\n",
       "                                                  Pipeline(steps=[('hotenco',\n",
       "                                                                   OneHotEncoder(drop='first')),\n",
       "                                                                  ('onehotnorm',\n",
       "                                                                   MaxAbsScaler())]),\n",
       "                                                  Index(['BusinessTravel', 'Department', 'EducationField', 'Gender', 'JobRole',\n",
       "       'MaritalStatus', 'AgeRange', 'IncomeDistribution'],\n",
       "      dtype='object')),\n",
       "                                                 ('numpipe',\n",
       "                                                  Pipeline(steps=[('std_scaler',\n",
       "                                                                   Stand...\n",
       "                               colsample_bytree=1, gamma=0, gpu_id=-1,\n",
       "                               importance_type='gain',\n",
       "                               interaction_constraints='',\n",
       "                               learning_rate=0.300000012, max_delta_step=0,\n",
       "                               max_depth=6, min_child_weight=1, missing=nan,\n",
       "                               monotone_constraints='()', n_estimators=100,\n",
       "                               n_jobs=0, num_parallel_tree=1, random_state=0,\n",
       "                               reg_alpha=0, reg_lambda=1, scale_pos_weight=1,\n",
       "                               subsample=1, tree_method='exact',\n",
       "                               validate_parameters=1, verbosity=None)]])"
      ]
     },
     "execution_count": 85,
     "metadata": {},
     "output_type": "execute_result"
    }
   ],
   "source": [
    "Boost_pipe.fit(X_train,y_train)\n"
   ]
  },
  {
   "cell_type": "code",
   "execution_count": 86,
   "metadata": {},
   "outputs": [],
   "source": [
    "y_pred=Boost_pipe.predict(X_test)"
   ]
  },
  {
   "cell_type": "code",
   "execution_count": 87,
   "metadata": {},
   "outputs": [
    {
     "data": {
      "text/plain": [
       "0.7891156462585034"
      ]
     },
     "execution_count": 87,
     "metadata": {},
     "output_type": "execute_result"
    }
   ],
   "source": [
    "Boost_pipe.score(X_test,y_test)"
   ]
  },
  {
   "cell_type": "code",
   "execution_count": 88,
   "metadata": {},
   "outputs": [
    {
     "name": "stdout",
     "output_type": "stream",
     "text": [
      "Accuracy Score: 0.7891156462585034\n",
      "Precision Score: 0.3050847457627119\n",
      "Recall Score: 0.46153846153846156\n",
      "F1 Score: 0.3673469387755103\n"
     ]
    }
   ],
   "source": [
    "print(f'Accuracy Score: {accuracy_score(y_test,y_pred)}')\n",
    "print(f'Precision Score: {precision_score(y_test,y_pred)}')\n",
    "print(f'Recall Score: {recall_score(y_test,y_pred)}')\n",
    "print(f'F1 Score: {f1_score(y_test,y_pred)}')"
   ]
  },
  {
   "cell_type": "markdown",
   "metadata": {},
   "source": [
    "###### XG Boosting Tuning"
   ]
  },
  {
   "cell_type": "code",
   "execution_count": 89,
   "metadata": {},
   "outputs": [
    {
     "name": "stdout",
     "output_type": "stream",
     "text": [
      "CPU times: user 7min 22s, sys: 43.2 s, total: 8min 5s\n",
      "Wall time: 1min 3s\n"
     ]
    },
    {
     "data": {
      "text/plain": [
       "{'Booster__colsample_bynode': 0.75,\n",
       " 'Booster__gamma': 10,\n",
       " 'Booster__learning_rate': 0.3,\n",
       " 'Booster__max_depth': 5,\n",
       " 'Booster__n_estimators': 100}"
      ]
     },
     "execution_count": 89,
     "metadata": {},
     "output_type": "execute_result"
    }
   ],
   "source": [
    "%%time\n",
    "params = [{'Booster__max_depth': [4,5,6], 'Booster__learning_rate': [.3,.4],\n",
    "          'Booster__gamma': [0,5,10], 'Booster__colsample_bynode': [.5, .75, 1],'Booster__n_estimators': [100, 150,200]}]\n",
    "\n",
    "Boost=GridSearchCV(estimator = Boost_pipe, param_grid=params, cv=5)\n",
    "\n",
    "Boost.fit(X_train,y_train)\n",
    "\n",
    "Boost.best_params_"
   ]
  },
  {
   "cell_type": "code",
   "execution_count": 90,
   "metadata": {},
   "outputs": [],
   "source": [
    "bestresult=Boost.best_estimator_\n",
    "y_pred= Boost_pipe.predict(X_test)\n",
    "\n",
    "def results(model,X, y):\n",
    "    y_pred = model.predict(X)\n",
    "    print(f'Accuracy Score: {accuracy_score(y,y_pred)}')\n",
    "    print(f'Precision Score: {precision_score(y,y_pred)}')\n",
    "    print(f'Recall Score: {recall_score(y,y_pred)}')\n",
    "    print(f'F1 Score: {f1_score(y,y_pred)}')\n",
    "    plot_confusion_matrix(model,X,y,cmap=\"GnBu_r\")\n"
   ]
  },
  {
   "cell_type": "code",
   "execution_count": 91,
   "metadata": {
    "scrolled": false
   },
   "outputs": [
    {
     "name": "stdout",
     "output_type": "stream",
     "text": [
      "Accuracy Score: 0.8707482993197279\n",
      "Precision Score: 0.6337209302325582\n",
      "Recall Score: 0.5505050505050505\n",
      "F1 Score: 0.5891891891891893\n"
     ]
    },
    {
     "data": {
      "image/png": "[encoded data removed]",
      "text/plain": [
       "<Figure size 432x288 with 2 Axes>"
      ]
     },
     "metadata": {},
     "output_type": "display_data"
    }
   ],
   "source": [
    "results(bestresult,X_train,y_train)"
   ]
  },
  {
   "cell_type": "code",
   "execution_count": 92,
   "metadata": {},
   "outputs": [
    {
     "name": "stdout",
     "output_type": "stream",
     "text": [
      "Accuracy Score: 0.8231292517006803\n",
      "Precision Score: 0.3142857142857143\n",
      "Recall Score: 0.28205128205128205\n",
      "F1 Score: 0.29729729729729726\n"
     ]
    },
    {
     "data": {
      "image/png": "[encoded data removed]",
      "text/plain": [
       "<Figure size 432x288 with 2 Axes>"
      ]
     },
     "metadata": {},
     "output_type": "display_data"
    }
   ],
   "source": [
    "results(bestresult,X_test,y_test)"
   ]
  },
  {
   "cell_type": "markdown",
   "metadata": {},
   "source": [
    "###### Best outcome - XG Boosting"
   ]
  },
  {
   "cell_type": "code",
   "execution_count": 93,
   "metadata": {},
   "outputs": [
    {
     "name": "stdout",
     "output_type": "stream",
     "text": [
      "Accuracy Score: 0.8129251700680272\n",
      "Precision Score: 0.3\n",
      "Recall Score: 0.3076923076923077\n",
      "F1 Score: 0.3037974683544304\n"
     ]
    }
   ],
   "source": [
    "Final_Boosting_pipe=Pipeline([\n",
    "        (\"preprocess\", ct),\n",
    "        ('under', RandomUnderSampler(sampling_strategy=0.5)),\n",
    "        ('Booster', XGBClassifier(colsample_bynode=1,\n",
    " gamma=5,\n",
    "learning_rate= 0.3,\n",
    "max_depth=6,\n",
    "n_estimators= 150))])\n",
    "Final_Boosting_pipe.fit(X_train,y_train)\n",
    "Boost_predicted = Final_Boosting_pipe.predict(X_test)\n",
    "print(f'Accuracy Score: {accuracy_score(y_test,Boost_predicted)}')\n",
    "print(f'Precision Score: {precision_score(y_test,Boost_predicted)}')\n",
    "print(f'Recall Score: {recall_score(y_test,Boost_predicted)}')\n",
    "print(f'F1 Score: {f1_score(y_test,Boost_predicted)}')"
   ]
  },
  {
   "cell_type": "markdown",
   "metadata": {},
   "source": [
    "## Random Forrest Modeling"
   ]
  },
  {
   "cell_type": "code",
   "execution_count": 94,
   "metadata": {},
   "outputs": [],
   "source": [
    "from sklearn.ensemble import BaggingClassifier, RandomForestClassifier,\\\n",
    "ExtraTreesClassifier, VotingClassifier, StackingRegressor"
   ]
  },
  {
   "cell_type": "code",
   "execution_count": 95,
   "metadata": {},
   "outputs": [],
   "source": [
    "decisionT_pipe.steps.pop(-1)\n",
    "decisionT_pipe.steps.append(['RF', RandomForestClassifier()])"
   ]
  },
  {
   "cell_type": "code",
   "execution_count": 96,
   "metadata": {},
   "outputs": [],
   "source": [
    "RF_pipe=decisionT_pipe"
   ]
  },
  {
   "cell_type": "code",
   "execution_count": 97,
   "metadata": {
    "scrolled": true
   },
   "outputs": [
    {
     "data": {
      "text/html": [
       "<style>div.sk-top-container {color: black;background-color: white;}div.sk-toggleable {background-color: white;}label.sk-toggleable__label {cursor: pointer;display: block;width: 100%;margin-bottom: 0;padding: 0.2em 0.3em;box-sizing: border-box;text-align: center;}div.sk-toggleable__content {max-height: 0;max-width: 0;overflow: hidden;text-align: left;background-color: #f0f8ff;}div.sk-toggleable__content pre {margin: 0.2em;color: black;border-radius: 0.25em;background-color: #f0f8ff;}input.sk-toggleable__control:checked~div.sk-toggleable__content {max-height: 200px;max-width: 100%;overflow: auto;}div.sk-estimator input.sk-toggleable__control:checked~label.sk-toggleable__label {background-color: #d4ebff;}div.sk-label input.sk-toggleable__control:checked~label.sk-toggleable__label {background-color: #d4ebff;}input.sk-hidden--visually {border: 0;clip: rect(1px 1px 1px 1px);clip: rect(1px, 1px, 1px, 1px);height: 1px;margin: -1px;overflow: hidden;padding: 0;position: absolute;width: 1px;}div.sk-estimator {font-family: monospace;background-color: #f0f8ff;margin: 0.25em 0.25em;border: 1px dotted black;border-radius: 0.25em;box-sizing: border-box;}div.sk-estimator:hover {background-color: #d4ebff;}div.sk-parallel-item::after {content: \"\";width: 100%;border-bottom: 1px solid gray;flex-grow: 1;}div.sk-label:hover label.sk-toggleable__label {background-color: #d4ebff;}div.sk-serial::before {content: \"\";position: absolute;border-left: 1px solid gray;box-sizing: border-box;top: 2em;bottom: 0;left: 50%;}div.sk-serial {display: flex;flex-direction: column;align-items: center;background-color: white;}div.sk-item {z-index: 1;}div.sk-parallel {display: flex;align-items: stretch;justify-content: center;background-color: white;}div.sk-parallel-item {display: flex;flex-direction: column;position: relative;background-color: white;}div.sk-parallel-item:first-child::after {align-self: flex-end;width: 50%;}div.sk-parallel-item:last-child::after {align-self: flex-start;width: 50%;}div.sk-parallel-item:only-child::after {width: 0;}div.sk-dashed-wrapped {border: 1px dashed gray;margin: 0.2em;box-sizing: border-box;padding-bottom: 0.1em;background-color: white;position: relative;}div.sk-label label {font-family: monospace;font-weight: bold;background-color: white;display: inline-block;line-height: 1.2em;}div.sk-label-container {position: relative;z-index: 2;text-align: center;}div.sk-container {display: inline-block;position: relative;}</style><div class=\"sk-top-container\"><div class=\"sk-container\"><div class=\"sk-item sk-dashed-wrapped\"><div class=\"sk-label-container\"><div class=\"sk-label sk-toggleable\"><input class=\"sk-toggleable__control sk-hidden--visually\" id=\"f5f14d58-5bd2-4e18-a643-21b256444c6b\" type=\"checkbox\" ><label class=\"sk-toggleable__label\" for=\"f5f14d58-5bd2-4e18-a643-21b256444c6b\">Pipeline</label><div class=\"sk-toggleable__content\"><pre>Pipeline(steps=[('preprocess',\n",
       "                 ColumnTransformer(transformers=[('nominalpipe',\n",
       "                                                  Pipeline(steps=[('hotenco',\n",
       "                                                                   OneHotEncoder(drop='first')),\n",
       "                                                                  ('onehotnorm',\n",
       "                                                                   MaxAbsScaler())]),\n",
       "                                                  Index(['BusinessTravel', 'Department', 'EducationField', 'Gender', 'JobRole',\n",
       "       'MaritalStatus', 'AgeRange', 'IncomeDistribution'],\n",
       "      dtype='object')),\n",
       "                                                 ('numpipe',\n",
       "                                                  Pipeline(steps=[('std_scaler',\n",
       "                                                                   Stand...\n",
       "       'PercentSalaryHike', 'PerformanceRating', 'RelationshipSatisfaction',\n",
       "       'StockOptionLevel', 'TotalWorkingYears', 'TrainingTimesLastYear',\n",
       "       'WorkLifeBalance', 'YearsAtCompany', 'YearsInCurrentRole',\n",
       "       'YearsSinceLastPromotion', 'YearsWithCurrManager', 'YearlyIncome'],\n",
       "      dtype='object'))])),\n",
       "                ('under', RandomUnderSampler(sampling_strategy=0.5)),\n",
       "                ['RF', RandomForestClassifier()]])</pre></div></div></div><div class=\"sk-serial\"><div class=\"sk-item sk-dashed-wrapped\"><div class=\"sk-label-container\"><div class=\"sk-label sk-toggleable\"><input class=\"sk-toggleable__control sk-hidden--visually\" id=\"945cd7f5-7620-49b4-bef6-71d4444d50cb\" type=\"checkbox\" ><label class=\"sk-toggleable__label\" for=\"945cd7f5-7620-49b4-bef6-71d4444d50cb\">preprocess: ColumnTransformer</label><div class=\"sk-toggleable__content\"><pre>ColumnTransformer(transformers=[('nominalpipe',\n",
       "                                 Pipeline(steps=[('hotenco',\n",
       "                                                  OneHotEncoder(drop='first')),\n",
       "                                                 ('onehotnorm',\n",
       "                                                  MaxAbsScaler())]),\n",
       "                                 Index(['BusinessTravel', 'Department', 'EducationField', 'Gender', 'JobRole',\n",
       "       'MaritalStatus', 'AgeRange', 'IncomeDistribution'],\n",
       "      dtype='object')),\n",
       "                                ('numpipe',\n",
       "                                 Pipeline(steps=[('std_scaler',\n",
       "                                                  StandardScaler())]),\n",
       "                                 Index(['Age', 'D...Satisfaction',\n",
       "       'JobInvolvement', 'JobSatisfaction', 'NumCompaniesWorked', 'OverTime',\n",
       "       'PercentSalaryHike', 'PerformanceRating', 'RelationshipSatisfaction',\n",
       "       'StockOptionLevel', 'TotalWorkingYears', 'TrainingTimesLastYear',\n",
       "       'WorkLifeBalance', 'YearsAtCompany', 'YearsInCurrentRole',\n",
       "       'YearsSinceLastPromotion', 'YearsWithCurrManager', 'YearlyIncome'],\n",
       "      dtype='object'))])</pre></div></div></div><div class=\"sk-parallel\"><div class=\"sk-parallel-item\"><div class=\"sk-item\"><div class=\"sk-label-container\"><div class=\"sk-label sk-toggleable\"><input class=\"sk-toggleable__control sk-hidden--visually\" id=\"4bbfbd40-47bc-4aca-b3a9-333337381d18\" type=\"checkbox\" ><label class=\"sk-toggleable__label\" for=\"4bbfbd40-47bc-4aca-b3a9-333337381d18\">nominalpipe</label><div class=\"sk-toggleable__content\"><pre>Index(['BusinessTravel', 'Department', 'EducationField', 'Gender', 'JobRole',\n",
       "       'MaritalStatus', 'AgeRange', 'IncomeDistribution'],\n",
       "      dtype='object')</pre></div></div></div><div class=\"sk-serial\"><div class=\"sk-item\"><div class=\"sk-serial\"><div class=\"sk-item\"><div class=\"sk-estimator sk-toggleable\"><input class=\"sk-toggleable__control sk-hidden--visually\" id=\"41aeef51-6904-48eb-b5ce-5021695c3268\" type=\"checkbox\" ><label class=\"sk-toggleable__label\" for=\"41aeef51-6904-48eb-b5ce-5021695c3268\">OneHotEncoder</label><div class=\"sk-toggleable__content\"><pre>OneHotEncoder(drop='first')</pre></div></div></div><div class=\"sk-item\"><div class=\"sk-estimator sk-toggleable\"><input class=\"sk-toggleable__control sk-hidden--visually\" id=\"fa9e3fc4-b128-4f86-ac52-27646ecf2640\" type=\"checkbox\" ><label class=\"sk-toggleable__label\" for=\"fa9e3fc4-b128-4f86-ac52-27646ecf2640\">MaxAbsScaler</label><div class=\"sk-toggleable__content\"><pre>MaxAbsScaler()</pre></div></div></div></div></div></div></div></div><div class=\"sk-parallel-item\"><div class=\"sk-item\"><div class=\"sk-label-container\"><div class=\"sk-label sk-toggleable\"><input class=\"sk-toggleable__control sk-hidden--visually\" id=\"23ade6ce-9315-4afa-a679-e5b9e91144f1\" type=\"checkbox\" ><label class=\"sk-toggleable__label\" for=\"23ade6ce-9315-4afa-a679-e5b9e91144f1\">numpipe</label><div class=\"sk-toggleable__content\"><pre>Index(['Age', 'DistanceFromHome', 'Education', 'EnvironmentSatisfaction',\n",
       "       'JobInvolvement', 'JobSatisfaction', 'NumCompaniesWorked', 'OverTime',\n",
       "       'PercentSalaryHike', 'PerformanceRating', 'RelationshipSatisfaction',\n",
       "       'StockOptionLevel', 'TotalWorkingYears', 'TrainingTimesLastYear',\n",
       "       'WorkLifeBalance', 'YearsAtCompany', 'YearsInCurrentRole',\n",
       "       'YearsSinceLastPromotion', 'YearsWithCurrManager', 'YearlyIncome'],\n",
       "      dtype='object')</pre></div></div></div><div class=\"sk-serial\"><div class=\"sk-item\"><div class=\"sk-serial\"><div class=\"sk-item\"><div class=\"sk-estimator sk-toggleable\"><input class=\"sk-toggleable__control sk-hidden--visually\" id=\"afe5e04f-1308-4c34-9f11-ec1ea34221d8\" type=\"checkbox\" ><label class=\"sk-toggleable__label\" for=\"afe5e04f-1308-4c34-9f11-ec1ea34221d8\">StandardScaler</label><div class=\"sk-toggleable__content\"><pre>StandardScaler()</pre></div></div></div></div></div></div></div></div></div></div><div class=\"sk-item\"><div class=\"sk-estimator sk-toggleable\"><input class=\"sk-toggleable__control sk-hidden--visually\" id=\"5859dd09-1092-4e8b-9430-c64b20b2dfd4\" type=\"checkbox\" ><label class=\"sk-toggleable__label\" for=\"5859dd09-1092-4e8b-9430-c64b20b2dfd4\">RandomUnderSampler</label><div class=\"sk-toggleable__content\"><pre>RandomUnderSampler(sampling_strategy=0.5)</pre></div></div></div><div class=\"sk-item\"><div class=\"sk-estimator sk-toggleable\"><input class=\"sk-toggleable__control sk-hidden--visually\" id=\"345601b3-61eb-498b-9d65-37e6acab4007\" type=\"checkbox\" ><label class=\"sk-toggleable__label\" for=\"345601b3-61eb-498b-9d65-37e6acab4007\">RandomForestClassifier</label><div class=\"sk-toggleable__content\"><pre>RandomForestClassifier()</pre></div></div></div></div></div></div></div>"
      ],
      "text/plain": [
       "Pipeline(steps=[('preprocess',\n",
       "                 ColumnTransformer(transformers=[('nominalpipe',\n",
       "                                                  Pipeline(steps=[('hotenco',\n",
       "                                                                   OneHotEncoder(drop='first')),\n",
       "                                                                  ('onehotnorm',\n",
       "                                                                   MaxAbsScaler())]),\n",
       "                                                  Index(['BusinessTravel', 'Department', 'EducationField', 'Gender', 'JobRole',\n",
       "       'MaritalStatus', 'AgeRange', 'IncomeDistribution'],\n",
       "      dtype='object')),\n",
       "                                                 ('numpipe',\n",
       "                                                  Pipeline(steps=[('std_scaler',\n",
       "                                                                   Stand...\n",
       "       'PercentSalaryHike', 'PerformanceRating', 'RelationshipSatisfaction',\n",
       "       'StockOptionLevel', 'TotalWorkingYears', 'TrainingTimesLastYear',\n",
       "       'WorkLifeBalance', 'YearsAtCompany', 'YearsInCurrentRole',\n",
       "       'YearsSinceLastPromotion', 'YearsWithCurrManager', 'YearlyIncome'],\n",
       "      dtype='object'))])),\n",
       "                ('under', RandomUnderSampler(sampling_strategy=0.5)),\n",
       "                ['RF', RandomForestClassifier()]])"
      ]
     },
     "execution_count": 97,
     "metadata": {},
     "output_type": "execute_result"
    }
   ],
   "source": [
    "RF_pipe.fit(X_train,y_train)"
   ]
  },
  {
   "cell_type": "code",
   "execution_count": 98,
   "metadata": {},
   "outputs": [],
   "source": [
    "predict=RF_pipe.predict(X_test)"
   ]
  },
  {
   "cell_type": "code",
   "execution_count": 580,
   "metadata": {
    "scrolled": true
   },
   "outputs": [
    {
     "name": "stdout",
     "output_type": "stream",
     "text": [
      "Accuracy Score: 0.8673469387755102\n",
      "Precision Score: 0.5\n",
      "Recall Score: 0.20512820512820512\n",
      "F1 Score: 0.29090909090909095\n"
     ]
    }
   ],
   "source": [
    "print(f'Accuracy Score: {accuracy_score(y_test,predict)}')\n",
    "print(f'Precision Score: {precision_score(y_test,predict)}')\n",
    "print(f'Recall Score: {recall_score(y_test,predict)}')\n",
    "print(f'F1 Score: {f1_score(y_test,predict)}')"
   ]
  },
  {
   "cell_type": "code",
   "execution_count": 99,
   "metadata": {
    "scrolled": false
   },
   "outputs": [
    {
     "data": {
      "text/plain": [
       "<sklearn.metrics._plot.confusion_matrix.ConfusionMatrixDisplay at 0x7fee61615e80>"
      ]
     },
     "execution_count": 99,
     "metadata": {},
     "output_type": "execute_result"
    },
    {
     "data": {
      "image/png": "[encoded data removed]",
      "text/plain": [
       "<Figure size 432x288 with 2 Axes>"
      ]
     },
     "metadata": {},
     "output_type": "display_data"
    }
   ],
   "source": [
    "plot_confusion_matrix(RF_pipe, X_test,\n",
    "                      y_test)"
   ]
  },
  {
   "cell_type": "markdown",
   "metadata": {},
   "source": [
    "###### Random Forest Model Tuning"
   ]
  },
  {
   "cell_type": "code",
   "execution_count": 100,
   "metadata": {},
   "outputs": [
    {
     "name": "stdout",
     "output_type": "stream",
     "text": [
      "CPU times: user 24.5 s, sys: 166 ms, total: 24.7 s\n",
      "Wall time: 24.7 s\n"
     ]
    },
    {
     "data": {
      "text/plain": [
       "{'RF__criterion': 'entropy',\n",
       " 'RF__max_depth': 4,\n",
       " 'RF__min_samples_split': 60,\n",
       " 'RF__n_estimators': 50}"
      ]
     },
     "execution_count": 100,
     "metadata": {},
     "output_type": "execute_result"
    }
   ],
   "source": [
    "%%time\n",
    "param=[{'RF__n_estimators':[50,100,150],\n",
    "        'RF__criterion':['gini','entropy'],\n",
    "        'RF__max_depth':[4,5,6],\n",
    "        'RF__min_samples_split':[30,60,90]      \n",
    "}]\n",
    "\n",
    "RF=GridSearchCV(estimator = RF_pipe, param_grid=param, cv=5)\n",
    "\n",
    "RF.fit(X_train,y_train)\n",
    "\n",
    "RF.best_params_"
   ]
  },
  {
   "cell_type": "code",
   "execution_count": 101,
   "metadata": {},
   "outputs": [],
   "source": [
    "RF_pipe.fit(X_train,y_train)\n",
    "predict=RF_pipe.predict(X_test)"
   ]
  },
  {
   "cell_type": "code",
   "execution_count": 102,
   "metadata": {},
   "outputs": [],
   "source": [
    "bestresult=RF.best_estimator_\n",
    "\n",
    "def results(model,X, y):\n",
    "    y_pred = model.predict(X)\n",
    "    print(f'Accuracy Score: {accuracy_score(y,y_pred)}')\n",
    "    print(f'Precision Score: {precision_score(y,y_pred)}')\n",
    "    print(f'Recall Score: {recall_score(y,y_pred)}')\n",
    "    print(f'F1 Score: {f1_score(y,y_pred)}')\n",
    "    plot_confusion_matrix(model,X,y,cmap=\"GnBu_r\")\n"
   ]
  },
  {
   "cell_type": "code",
   "execution_count": 103,
   "metadata": {},
   "outputs": [
    {
     "name": "stdout",
     "output_type": "stream",
     "text": [
      "Accuracy Score: 0.8664965986394558\n",
      "Precision Score: 0.664\n",
      "Recall Score: 0.41919191919191917\n",
      "F1 Score: 0.5139318885448916\n"
     ]
    },
    {
     "data": {
      "image/png": "[encoded data removed]",
      "text/plain": [
       "<Figure size 432x288 with 2 Axes>"
      ]
     },
     "metadata": {},
     "output_type": "display_data"
    }
   ],
   "source": [
    "results(bestresult,X_train,y_train)"
   ]
  },
  {
   "cell_type": "code",
   "execution_count": 104,
   "metadata": {
    "scrolled": false
   },
   "outputs": [
    {
     "name": "stdout",
     "output_type": "stream",
     "text": [
      "Accuracy Score: 0.8503401360544217\n",
      "Precision Score: 0.38095238095238093\n",
      "Recall Score: 0.20512820512820512\n",
      "F1 Score: 0.26666666666666666\n"
     ]
    },
    {
     "data": {
      "image/png": "[encoded data removed]",
      "text/plain": [
       "<Figure size 432x288 with 2 Axes>"
      ]
     },
     "metadata": {},
     "output_type": "display_data"
    }
   ],
   "source": [
    "results(bestresult,X_test,y_test)"
   ]
  },
  {
   "cell_type": "markdown",
   "metadata": {},
   "source": [
    "###### Best Result for Random Forrest"
   ]
  },
  {
   "cell_type": "code",
   "execution_count": 602,
   "metadata": {},
   "outputs": [
    {
     "name": "stdout",
     "output_type": "stream",
     "text": [
      "Accuracy Score: 0.8503401360544217\n",
      "Precision Score: 0.3684210526315789\n",
      "Recall Score: 0.1794871794871795\n",
      "F1 Score: 0.2413793103448276\n"
     ]
    }
   ],
   "source": [
    "RF_pipe.steps[-1]=['RF', RandomForestClassifier(criterion= 'entropy', max_depth= 6, min_samples_split=60, n_estimators= 150)]\n",
    "Final_RF_pipe=RF_pipe\n",
    "Final_RF_pipe.fit(X_train,y_train)\n",
    "final_predicted = Final_RF_pipe.predict(X_test)\n",
    "print(f'Accuracy Score: {accuracy_score(y_test,final_predicted)}')\n",
    "print(f'Precision Score: {precision_score(y_test,final_predicted)}')\n",
    "print(f'Recall Score: {recall_score(y_test,final_predicted)}')\n",
    "print(f'F1 Score: {f1_score(y_test,final_predicted)}')"
   ]
  },
  {
   "cell_type": "code",
   "execution_count": 603,
   "metadata": {},
   "outputs": [],
   "source": [
    "pred_prob1 = Final_RF_pipe.predict_proba(X_test)\n",
    "pred_prob2 = Final_Boosting_pipe.predict_proba(X_test)\n",
    "pred_prob3 = Final_KNN_pipe.predict_proba(X_test)\n",
    "pred_prob4 = final_final_pipe.predict_proba(X_test)"
   ]
  },
  {
   "cell_type": "code",
   "execution_count": 604,
   "metadata": {},
   "outputs": [],
   "source": [
    "from sklearn.metrics import roc_auc_score\n",
    "\n",
    "# auc scores\n",
    "auc_score1 = roc_auc_score(y_test, pred_prob1[:,1])\n",
    "auc_score2 = roc_auc_score(y_test, pred_prob2[:,1])\n",
    "auc_score3 = roc_auc_score(y_test, pred_prob3[:,1])\n",
    "auc_score4 = roc_auc_score(y_test, pred_prob3[:,1])\n",
    "\n"
   ]
  },
  {
   "cell_type": "code",
   "execution_count": 605,
   "metadata": {},
   "outputs": [],
   "source": [
    "from sklearn.metrics import roc_curve\n",
    "\n",
    "# roc curve for models\n",
    "fpr1, tpr1, thresh1 = roc_curve(y_test, pred_prob1[:,1], pos_label=1)\n",
    "fpr2, tpr2, thresh2 = roc_curve(y_test, pred_prob2[:,1], pos_label=1)\n",
    "fpr3, tpr3, thresh3 = roc_curve(y_test, pred_prob3[:,1], pos_label=1)\n",
    "fpr4, tpr4, thresh4 = roc_curve(y_test, pred_prob4[:,1], pos_label=1)\n",
    "\n",
    "# roc curve for tpr = fpr \n",
    "random_probs = [0 for i in range(len(y_test))]\n",
    "p_fpr, p_tpr, _ = roc_curve(y_test, random_probs, pos_label=1)"
   ]
  },
  {
   "cell_type": "code",
   "execution_count": 606,
   "metadata": {},
   "outputs": [
    {
     "data": {
      "image/png": "[encoded data removed]",
      "text/plain": [
       "<Figure size 576x396 with 1 Axes>"
      ]
     },
     "metadata": {},
     "output_type": "display_data"
    }
   ],
   "source": [
    "import matplotlib.pyplot as plt\n",
    "plt.style.use('seaborn')\n",
    "\n",
    "# plot roc curves\n",
    "plt.plot(fpr1, tpr1, linestyle='--',color='orange', label='Random Forest')\n",
    "plt.plot(fpr2, tpr2, linestyle='--',color='red', label='XGBoost')\n",
    "plt.plot(fpr3, tpr3, linestyle='--',color='green', label='KNN')\n",
    "plt.plot(fpr4, tpr4, linestyle='--',color='yellow', label='Logistic Regression')\n",
    "\n",
    "\n",
    "plt.plot(p_fpr, p_tpr, linestyle='--', color='blue')\n",
    "# title\n",
    "plt.title('ROC curve')\n",
    "# x label\n",
    "plt.xlabel('False Positive Rate')\n",
    "# y label\n",
    "plt.ylabel('True Positive rate')\n",
    "\n",
    "plt.legend(loc='best')\n",
    "plt.savefig('ROC',dpi=300)\n",
    "plt.show();"
   ]
  },
  {
   "cell_type": "code",
   "execution_count": 238,
   "metadata": {},
   "outputs": [],
   "source": [
    "ohe = OneHotEncoder(handle_unknown = 'ignore')\n",
    "\n",
    "ohe_train = ohe.fit_transform(X_train[nominal_cols]).toarray()\n",
    "ohe_test = ohe.transform(X_test[nominal_cols]).toarray()\n",
    "\n",
    "ohe_train = pd.DataFrame(ohe_train, columns = ohe.get_feature_names())\n",
    "ohe_test = pd.DataFrame(ohe_test, columns = ohe.get_feature_names())\n",
    "\n",
    "col=X_train.drop(X_train[nominal_cols],axis=1)\n",
    "features=col.columns\n",
    "\n",
    "ohe_cols=ohe_train.columns\n",
    "column_names=np.append(features,ohe_cols)"
   ]
  },
  {
   "cell_type": "code",
   "execution_count": 275,
   "metadata": {},
   "outputs": [],
   "source": [
    "RF_data=Final_RF_pipe['RF'].feature_importances_"
   ]
  },
  {
   "cell_type": "code",
   "execution_count": 287,
   "metadata": {},
   "outputs": [
    {
     "data": {
      "text/plain": [
       "array([0.01783063, 0.00322885, 0.02107531, 0.02149151, 0.00590336,\n",
       "       0.00835756, 0.00460028, 0.0008257 , 0.00387316, 0.00437514,\n",
       "       0.00124659, 0.01238818, 0.00193157, 0.00363797, 0.00324326,\n",
       "       0.00655969, 0.01677181, 0.01259044, 0.00492998, 0.04537413,\n",
       "       0.00284444, 0.00221026, 0.01042848, 0.01213262, 0.06740276,\n",
       "       0.00582014, 0.03847837, 0.01598665, 0.00652531, 0.0192169 ,\n",
       "       0.01801788, 0.01994445, 0.02732097, 0.1577958 , 0.01441206,\n",
       "       0.00155991, 0.00734909, 0.08900885, 0.04124203, 0.00961126,\n",
       "       0.02044979, 0.04996071, 0.04043477, 0.01875733, 0.02886538,\n",
       "       0.07398869])"
      ]
     },
     "execution_count": 287,
     "metadata": {},
     "output_type": "execute_result"
    }
   ],
   "source": [
    "RF_data"
   ]
  },
  {
   "cell_type": "code",
   "execution_count": 289,
   "metadata": {},
   "outputs": [],
   "source": [
    "feature_data=RF_data[0:20]"
   ]
  },
  {
   "cell_type": "code",
   "execution_count": 293,
   "metadata": {},
   "outputs": [
    {
     "data": {
      "text/plain": [
       "20"
      ]
     },
     "execution_count": 293,
     "metadata": {},
     "output_type": "execute_result"
    }
   ],
   "source": [
    "len(feature_data)"
   ]
  },
  {
   "cell_type": "code",
   "execution_count": 301,
   "metadata": {},
   "outputs": [
    {
     "data": {
      "text/plain": [
       "(array([ 0,  1,  2,  3,  4,  5,  6,  7,  8,  9, 10, 11, 12, 13, 14, 15, 16,\n",
       "        17, 18, 19]),\n",
       " [Text(0, 0, 'Age'),\n",
       "  Text(1, 0, 'DistanceFromHome'),\n",
       "  Text(2, 0, 'Education'),\n",
       "  Text(3, 0, 'EnvironmentSatisfaction'),\n",
       "  Text(4, 0, 'JobInvolvement'),\n",
       "  Text(5, 0, 'JobSatisfaction'),\n",
       "  Text(6, 0, 'NumCompaniesWorked'),\n",
       "  Text(7, 0, 'OverTime'),\n",
       "  Text(8, 0, 'PercentSalaryHike'),\n",
       "  Text(9, 0, 'PerformanceRating'),\n",
       "  Text(10, 0, 'RelationshipSatisfaction'),\n",
       "  Text(11, 0, 'StockOptionLevel'),\n",
       "  Text(12, 0, 'TotalWorkingYears'),\n",
       "  Text(13, 0, 'TrainingTimesLastYear'),\n",
       "  Text(14, 0, 'WorkLifeBalance'),\n",
       "  Text(15, 0, 'YearsAtCompany'),\n",
       "  Text(16, 0, 'YearsInCurrentRole'),\n",
       "  Text(17, 0, 'YearsSinceLastPromotion'),\n",
       "  Text(18, 0, 'YearsWithCurrManager'),\n",
       "  Text(19, 0, 'YearlyIncome')])"
      ]
     },
     "execution_count": 301,
     "metadata": {},
     "output_type": "execute_result"
    },
    {
     "data": {
      "image/png": "[encoded data removed]",
      "text/plain": [
       "<Figure size 576x396 with 1 Axes>"
      ]
     },
     "metadata": {},
     "output_type": "display_data"
    }
   ],
   "source": [
    "sns.barplot(x=features,y=feature_data,palette='mako')\n",
    "plt.xticks(rotation=90)"
   ]
  },
  {
   "cell_type": "code",
   "execution_count": 299,
   "metadata": {},
   "outputs": [
    {
     "data": {
      "text/plain": [
       "<zip at 0x7f98382d83c0>"
      ]
     },
     "execution_count": 299,
     "metadata": {},
     "output_type": "execute_result"
    }
   ],
   "source": [
    "feature_importance"
   ]
  },
  {
   "cell_type": "code",
   "execution_count": 298,
   "metadata": {},
   "outputs": [],
   "source": [
    "feature_importance=zip(features,RF_data)"
   ]
  }
 ],
 "metadata": {
  "kernelspec": {
   "display_name": "Python (learn-env)",
   "language": "python",
   "name": "learn-env"
  },
  "language_info": {
   "codemirror_mode": {
    "name": "ipython",
    "version": 3
   },
   "file_extension": ".py",
   "mimetype": "text/x-python",
   "name": "python",
   "nbconvert_exporter": "python",
   "pygments_lexer": "ipython3",
   "version": "3.8.5"
  }
 },
 "nbformat": 4,
 "nbformat_minor": 4
}
